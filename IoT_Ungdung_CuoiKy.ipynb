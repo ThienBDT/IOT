{
 "cells": [
  {
   "cell_type": "markdown",
   "id": "2fe147f4",
   "metadata": {},
   "source": [
    "# IOT và Ứng Dụng"
   ]
  },
  {
   "cell_type": "code",
   "execution_count": 1,
   "id": "eafc5dd3",
   "metadata": {},
   "outputs": [],
   "source": [
    "import pandas as pd\n",
    "import numpy as np\n",
    "from sklearn.utils import resample\n",
    "from sklearn import preprocessing\n",
    "import glob\n"
   ]
  },
  {
   "cell_type": "code",
   "execution_count": 2,
   "id": "433d2501",
   "metadata": {},
   "outputs": [],
   "source": [
    "import seaborn as sns"
   ]
  },
  {
   "cell_type": "code",
   "execution_count": 3,
   "id": "6ffc634e",
   "metadata": {},
   "outputs": [],
   "source": [
    "import matplotlib.pyplot as plt"
   ]
  },
  {
   "cell_type": "code",
   "execution_count": 4,
   "id": "7b43ee2f-a32d-461f-b880-46f1af019649",
   "metadata": {},
   "outputs": [],
   "source": [
    "from sklearn.model_selection import train_test_split"
   ]
  },
  {
   "cell_type": "code",
   "execution_count": 5,
   "id": "a4625028-da9d-460a-976c-a147e8d02743",
   "metadata": {},
   "outputs": [],
   "source": [
    "from sklearn.svm import SVC"
   ]
  },
  {
   "cell_type": "code",
   "execution_count": 6,
   "id": "3ca7d4d9-864f-47f5-85fc-dba2715253db",
   "metadata": {},
   "outputs": [],
   "source": [
    "from sklearn.preprocessing import MinMaxScaler\n",
    "from sklearn.metrics import classification_report, confusion_matrix\n",
    "from sklearn.ensemble import GradientBoostingClassifier #Gradient Boosting Classifier"
   ]
  },
  {
   "cell_type": "code",
   "execution_count": 7,
   "id": "c7bb0da0-68f0-4e66-b548-1757a6d89211",
   "metadata": {},
   "outputs": [],
   "source": [
    "import warnings\n",
    "\n",
    "warnings.filterwarnings('ignore')\n",
    "%matplotlib inline"
   ]
  },
  {
   "cell_type": "markdown",
   "id": "bd229db9",
   "metadata": {},
   "source": [
    "### Defining functions to load files and downsample them\n",
    "\n",
    "##### Vì nghiên cứu này nhằm mục đích phát triển bộ phát hiện nhị phân (Tấn công hoặc Bình thường), chúng ta cân bằng tập dữ liệu giữa hai lớp này. Tuy nhiên, CIC-DDOS2019 có ít quy trình bình thường trong đó. Vì vậy, downsampling là cần thiết.\n",
    "\n",
    "Đối với quy trình lấy mẫu xuống, chúng tôi cho phép các luồng dị thường lớn hơn \"nhiều\" lần so với các luồng bình thường. Cách tiếp cận này nhằm mục đích giảm sự mất cân bằng của lớp đồng thời ngăn chặn tổn thất thông tin trên các luồng tấn công (khi số lượng luồng tấn công được lấy mẫu xuống bằng số luồng bình thường, các mô hình ML không thể điều chỉnh phù hợp)"
   ]
  },
  {
   "cell_type": "code",
   "execution_count": 8,
   "id": "08398807",
   "metadata": {
    "tags": []
   },
   "outputs": [],
   "source": [
    "# mult = 5\n",
    "\n",
    "# def load_file(path):\n",
    "#     data = pd.read_csv(path, sep=',')\n",
    "\n",
    "#     is_benign = data[' Label']=='BENIGN'\n",
    "#     flows_ok = data[is_benign]\n",
    "#     flows_ddos_full = data[~is_benign]\n",
    "    \n",
    "#     sizeDownSample = len(flows_ok)*mult # tamanho do set final de dados anomalos\n",
    "    \n",
    "#     # downsample majority\n",
    "#     if (len(flows_ok)*mult) < (len(flows_ddos_full)): \n",
    "#         flows_ddos_reduced = resample(flows_ddos_full,\n",
    "#                                          replace = False, # sample without replacement\n",
    "#                                          n_samples = sizeDownSample, # match minority n\n",
    "#                                          random_state = 27) # reproducible results\n",
    "#     else:\n",
    "#         flows_ddos_reduced = flows_ddos_full\n",
    "    \n",
    "#     return flows_ok, flows_ddos_reduced\n",
    "\n",
    " \n",
    "# def load_huge_file(path):\n",
    "#     df_chunk = pd.read_csv(path, chunksize=500000)\n",
    "    \n",
    "#     chunk_list_ok = []  # append each chunk df here \n",
    "#     chunk_list_ddos = [] \n",
    "\n",
    "#     # Each chunk is in df format\n",
    "#     for chunk in df_chunk:  \n",
    "#         # perform data filtering \n",
    "#         is_benign = chunk[' Label']=='BENIGN'\n",
    "#         flows_ok = chunk[is_benign]\n",
    "#         flows_ddos_full = chunk[~is_benign]\n",
    "        \n",
    "#         if (len(flows_ok)*mult) < (len(flows_ddos_full)): \n",
    "#             sizeDownSample = len(flows_ok)*mult # tamanho do set final de dados anomalos\n",
    "            \n",
    "#             # downsample majority\n",
    "#             flows_ddos_reduced = resample(flows_ddos_full,\n",
    "#                                              replace = False, # sample without replacement\n",
    "#                                              n_samples = sizeDownSample, # match minority n\n",
    "#                                              random_state = 27) # reproducible results \n",
    "#         else:\n",
    "#             flows_ddos_reduced = flows_ddos_full\n",
    "            \n",
    "#         # Once the data filtering is done, append the chunk to list\n",
    "#         chunk_list_ok.append(flows_ok)\n",
    "#         chunk_list_ddos.append(flows_ddos_reduced)\n",
    "        \n",
    "#     # concat the list into dataframe \n",
    "#     flows_ok = pd.concat(chunk_list_ok)\n",
    "#     flows_ddos = pd.concat(chunk_list_ddos)\n",
    "    \n",
    "#     return flows_ok, flows_ddos\n",
    "  "
   ]
  },
  {
   "cell_type": "code",
   "execution_count": 9,
   "id": "9772f1e8",
   "metadata": {
    "tags": []
   },
   "outputs": [],
   "source": [
    "# # file 1\n",
    "# flows_ok, flows_ddos = load_file('03-11/LDAP.csv')\n",
    "# print('file 1 loaded')\n",
    "\n",
    "# # file 2\n",
    "# a,b = load_file('03-11/MSSQL.csv')\n",
    "# flows_ok = flows_ok.append(a,ignore_index=True)\n",
    "# flows_ddos = flows_ddos.append(b,ignore_index=True)\n",
    "# print('file 2 loaded')\n",
    "\n",
    "# # file 3\n",
    "# a,b = load_file('03-11/NetBIOS.csv')\n",
    "# flows_ok = flows_ok.append(a,ignore_index=True)\n",
    "# flows_ddos = flows_ddos.append(b,ignore_index=True)\n",
    "# print('file 3 loaded')\n",
    "\n",
    "# # file 4\n",
    "# a,b = load_file('03-11/PortMap.csv')\n",
    "# flows_ok = flows_ok.append(a,ignore_index=True)\n",
    "# flows_ddos = flows_ddos.append(b,ignore_index=True)\n",
    "# print('file 4 loaded')\n",
    "\n",
    "# # file 5\n",
    "# a,b = load_file('03-11/Syn.csv')\n",
    "# flows_ok = flows_ok.append(a,ignore_index=True)\n",
    "# flows_ddos = flows_ddos.append(b,ignore_index=True)\n",
    "# print('file 5 loaded')\n",
    "\n",
    "# # following files won't load**\n",
    "# # file 6\n",
    "\n",
    "# a,b = load_file('03-11/UDP.csv')\n",
    "# flows_ok = flows_ok.append(a,ignore_index=True)\n",
    "# flows_ddos = flows_ddos.append(b,ignore_index=True)\n",
    "# print('file 6 loaded')\n",
    "\n",
    "# # file 7\n",
    "# a,b = load_file('03-11/UDPLag.csv')\n",
    "# flows_ok = flows_ok.append(a,ignore_index=True)\n",
    "# flows_ddos = flows_ddos.append(b,ignore_index=True)\n",
    "# print('file 7 loaded')\n",
    "\n",
    "# tests = flows_ok.append(flows_ddos,ignore_index=True)\n",
    "# tests.to_csv(r'03-11/dataset.csv', index = None, header=True) \n",
    "\n",
    "# del flows_ddos, flows_ok, a, b"
   ]
  },
  {
   "cell_type": "markdown",
   "id": "e835ed5f",
   "metadata": {
    "tags": []
   },
   "source": [
    "## Read File Data"
   ]
  },
  {
   "cell_type": "code",
   "execution_count": 10,
   "id": "5ebae467",
   "metadata": {},
   "outputs": [],
   "source": [
    "df = pd.read_csv('03-11/dataset.csv')"
   ]
  },
  {
   "cell_type": "markdown",
   "id": "286227e6-5272-4aa4-9f3e-627fb31541c6",
   "metadata": {},
   "source": [
    "### Exploratory data analysis"
   ]
  },
  {
   "cell_type": "code",
   "execution_count": 11,
   "id": "fb0364c9-b3dc-470f-a6b9-6bdea52ca45b",
   "metadata": {},
   "outputs": [
    {
     "data": {
      "text/plain": [
       "(341790, 88)"
      ]
     },
     "execution_count": 11,
     "metadata": {},
     "output_type": "execute_result"
    }
   ],
   "source": [
    "# view dimensions of dataset\n",
    "\n",
    "df.shape"
   ]
  },
  {
   "cell_type": "code",
   "execution_count": 12,
   "id": "01c98609-80e5-4461-b318-c0b9702d3d90",
   "metadata": {},
   "outputs": [
    {
     "data": {
      "text/html": [
       "<div>\n",
       "<style scoped>\n",
       "    .dataframe tbody tr th:only-of-type {\n",
       "        vertical-align: middle;\n",
       "    }\n",
       "\n",
       "    .dataframe tbody tr th {\n",
       "        vertical-align: top;\n",
       "    }\n",
       "\n",
       "    .dataframe thead th {\n",
       "        text-align: right;\n",
       "    }\n",
       "</style>\n",
       "<table border=\"1\" class=\"dataframe\">\n",
       "  <thead>\n",
       "    <tr style=\"text-align: right;\">\n",
       "      <th></th>\n",
       "      <th>Unnamed: 0</th>\n",
       "      <th>Flow ID</th>\n",
       "      <th>Source IP</th>\n",
       "      <th>Source Port</th>\n",
       "      <th>Destination IP</th>\n",
       "      <th>Destination Port</th>\n",
       "      <th>Protocol</th>\n",
       "      <th>Timestamp</th>\n",
       "      <th>Flow Duration</th>\n",
       "      <th>Total Fwd Packets</th>\n",
       "      <th>...</th>\n",
       "      <th>Active Std</th>\n",
       "      <th>Active Max</th>\n",
       "      <th>Active Min</th>\n",
       "      <th>Idle Mean</th>\n",
       "      <th>Idle Std</th>\n",
       "      <th>Idle Max</th>\n",
       "      <th>Idle Min</th>\n",
       "      <th>SimillarHTTP</th>\n",
       "      <th>Inbound</th>\n",
       "      <th>Label</th>\n",
       "    </tr>\n",
       "  </thead>\n",
       "  <tbody>\n",
       "    <tr>\n",
       "      <th>0</th>\n",
       "      <td>0</td>\n",
       "      <td>172.217.2.174-192.168.50.8-80-60015-6</td>\n",
       "      <td>192.168.50.8</td>\n",
       "      <td>60015</td>\n",
       "      <td>172.217.2.174</td>\n",
       "      <td>80</td>\n",
       "      <td>6</td>\n",
       "      <td>2018-11-03 10:09:00.744475</td>\n",
       "      <td>1</td>\n",
       "      <td>2</td>\n",
       "      <td>...</td>\n",
       "      <td>0.000000</td>\n",
       "      <td>0.0</td>\n",
       "      <td>0.0</td>\n",
       "      <td>0.0</td>\n",
       "      <td>0.000000e+00</td>\n",
       "      <td>0.0</td>\n",
       "      <td>0.0</td>\n",
       "      <td>0</td>\n",
       "      <td>0</td>\n",
       "      <td>BENIGN</td>\n",
       "    </tr>\n",
       "    <tr>\n",
       "      <th>1</th>\n",
       "      <td>1</td>\n",
       "      <td>172.217.2.174-192.168.50.8-80-60015-6</td>\n",
       "      <td>172.217.2.174</td>\n",
       "      <td>80</td>\n",
       "      <td>192.168.50.8</td>\n",
       "      <td>60015</td>\n",
       "      <td>6</td>\n",
       "      <td>2018-11-03 10:09:00.771179</td>\n",
       "      <td>47</td>\n",
       "      <td>2</td>\n",
       "      <td>...</td>\n",
       "      <td>0.000000</td>\n",
       "      <td>0.0</td>\n",
       "      <td>0.0</td>\n",
       "      <td>0.0</td>\n",
       "      <td>0.000000e+00</td>\n",
       "      <td>0.0</td>\n",
       "      <td>0.0</td>\n",
       "      <td>0</td>\n",
       "      <td>1</td>\n",
       "      <td>BENIGN</td>\n",
       "    </tr>\n",
       "    <tr>\n",
       "      <th>2</th>\n",
       "      <td>93506</td>\n",
       "      <td>172.217.2.174-192.168.50.8-80-60015-6</td>\n",
       "      <td>192.168.50.8</td>\n",
       "      <td>60015</td>\n",
       "      <td>172.217.2.174</td>\n",
       "      <td>80</td>\n",
       "      <td>6</td>\n",
       "      <td>2018-11-03 10:09:00.771382</td>\n",
       "      <td>1</td>\n",
       "      <td>2</td>\n",
       "      <td>...</td>\n",
       "      <td>0.000000</td>\n",
       "      <td>0.0</td>\n",
       "      <td>0.0</td>\n",
       "      <td>0.0</td>\n",
       "      <td>0.000000e+00</td>\n",
       "      <td>0.0</td>\n",
       "      <td>0.0</td>\n",
       "      <td>0</td>\n",
       "      <td>0</td>\n",
       "      <td>BENIGN</td>\n",
       "    </tr>\n",
       "    <tr>\n",
       "      <th>3</th>\n",
       "      <td>8849</td>\n",
       "      <td>172.217.10.2-192.168.50.8-443-60007-6</td>\n",
       "      <td>172.217.10.2</td>\n",
       "      <td>443</td>\n",
       "      <td>192.168.50.8</td>\n",
       "      <td>60007</td>\n",
       "      <td>6</td>\n",
       "      <td>2018-11-03 10:09:00.947429</td>\n",
       "      <td>8001234</td>\n",
       "      <td>4</td>\n",
       "      <td>...</td>\n",
       "      <td>0.000000</td>\n",
       "      <td>1.0</td>\n",
       "      <td>1.0</td>\n",
       "      <td>8001232.0</td>\n",
       "      <td>0.000000e+00</td>\n",
       "      <td>8001232.0</td>\n",
       "      <td>8001232.0</td>\n",
       "      <td>0</td>\n",
       "      <td>1</td>\n",
       "      <td>BENIGN</td>\n",
       "    </tr>\n",
       "    <tr>\n",
       "      <th>4</th>\n",
       "      <td>283</td>\n",
       "      <td>172.217.6.225-192.168.50.6-443-55310-6</td>\n",
       "      <td>192.168.50.6</td>\n",
       "      <td>55310</td>\n",
       "      <td>172.217.6.225</td>\n",
       "      <td>443</td>\n",
       "      <td>6</td>\n",
       "      <td>2018-11-03 10:09:01.188827</td>\n",
       "      <td>112729696</td>\n",
       "      <td>13</td>\n",
       "      <td>...</td>\n",
       "      <td>82.024387</td>\n",
       "      <td>62271.0</td>\n",
       "      <td>62155.0</td>\n",
       "      <td>56301460.5</td>\n",
       "      <td>3.535899e+06</td>\n",
       "      <td>58801719.0</td>\n",
       "      <td>53801202.0</td>\n",
       "      <td>0</td>\n",
       "      <td>0</td>\n",
       "      <td>BENIGN</td>\n",
       "    </tr>\n",
       "  </tbody>\n",
       "</table>\n",
       "<p>5 rows × 88 columns</p>\n",
       "</div>"
      ],
      "text/plain": [
       "   Unnamed: 0                                 Flow ID      Source IP  \\\n",
       "0           0   172.217.2.174-192.168.50.8-80-60015-6   192.168.50.8   \n",
       "1           1   172.217.2.174-192.168.50.8-80-60015-6  172.217.2.174   \n",
       "2       93506   172.217.2.174-192.168.50.8-80-60015-6   192.168.50.8   \n",
       "3        8849   172.217.10.2-192.168.50.8-443-60007-6   172.217.10.2   \n",
       "4         283  172.217.6.225-192.168.50.6-443-55310-6   192.168.50.6   \n",
       "\n",
       "    Source Port  Destination IP   Destination Port   Protocol  \\\n",
       "0         60015   172.217.2.174                 80          6   \n",
       "1            80    192.168.50.8              60015          6   \n",
       "2         60015   172.217.2.174                 80          6   \n",
       "3           443    192.168.50.8              60007          6   \n",
       "4         55310   172.217.6.225                443          6   \n",
       "\n",
       "                    Timestamp   Flow Duration   Total Fwd Packets  ...  \\\n",
       "0  2018-11-03 10:09:00.744475               1                   2  ...   \n",
       "1  2018-11-03 10:09:00.771179              47                   2  ...   \n",
       "2  2018-11-03 10:09:00.771382               1                   2  ...   \n",
       "3  2018-11-03 10:09:00.947429         8001234                   4  ...   \n",
       "4  2018-11-03 10:09:01.188827       112729696                  13  ...   \n",
       "\n",
       "    Active Std   Active Max   Active Min   Idle Mean      Idle Std  \\\n",
       "0     0.000000          0.0          0.0         0.0  0.000000e+00   \n",
       "1     0.000000          0.0          0.0         0.0  0.000000e+00   \n",
       "2     0.000000          0.0          0.0         0.0  0.000000e+00   \n",
       "3     0.000000          1.0          1.0   8001232.0  0.000000e+00   \n",
       "4    82.024387      62271.0      62155.0  56301460.5  3.535899e+06   \n",
       "\n",
       "     Idle Max    Idle Min  SimillarHTTP   Inbound   Label  \n",
       "0         0.0         0.0             0         0  BENIGN  \n",
       "1         0.0         0.0             0         1  BENIGN  \n",
       "2         0.0         0.0             0         0  BENIGN  \n",
       "3   8001232.0   8001232.0             0         1  BENIGN  \n",
       "4  58801719.0  53801202.0             0         0  BENIGN  \n",
       "\n",
       "[5 rows x 88 columns]"
      ]
     },
     "execution_count": 12,
     "metadata": {},
     "output_type": "execute_result"
    }
   ],
   "source": [
    "# let's preview the dataset\n",
    "\n",
    "df.head()"
   ]
  },
  {
   "cell_type": "code",
   "execution_count": 13,
   "id": "2de42eae-cb5a-4869-bdf6-8cf52ed8c55e",
   "metadata": {},
   "outputs": [
    {
     "data": {
      "text/plain": [
       "Index(['Unnamed: 0', 'Flow ID', ' Source IP', ' Source Port',\n",
       "       ' Destination IP', ' Destination Port', ' Protocol', ' Timestamp',\n",
       "       ' Flow Duration', ' Total Fwd Packets', ' Total Backward Packets',\n",
       "       'Total Length of Fwd Packets', ' Total Length of Bwd Packets',\n",
       "       ' Fwd Packet Length Max', ' Fwd Packet Length Min',\n",
       "       ' Fwd Packet Length Mean', ' Fwd Packet Length Std',\n",
       "       'Bwd Packet Length Max', ' Bwd Packet Length Min',\n",
       "       ' Bwd Packet Length Mean', ' Bwd Packet Length Std', 'Flow Bytes/s',\n",
       "       ' Flow Packets/s', ' Flow IAT Mean', ' Flow IAT Std', ' Flow IAT Max',\n",
       "       ' Flow IAT Min', 'Fwd IAT Total', ' Fwd IAT Mean', ' Fwd IAT Std',\n",
       "       ' Fwd IAT Max', ' Fwd IAT Min', 'Bwd IAT Total', ' Bwd IAT Mean',\n",
       "       ' Bwd IAT Std', ' Bwd IAT Max', ' Bwd IAT Min', 'Fwd PSH Flags',\n",
       "       ' Bwd PSH Flags', ' Fwd URG Flags', ' Bwd URG Flags',\n",
       "       ' Fwd Header Length', ' Bwd Header Length', 'Fwd Packets/s',\n",
       "       ' Bwd Packets/s', ' Min Packet Length', ' Max Packet Length',\n",
       "       ' Packet Length Mean', ' Packet Length Std', ' Packet Length Variance',\n",
       "       'FIN Flag Count', ' SYN Flag Count', ' RST Flag Count',\n",
       "       ' PSH Flag Count', ' ACK Flag Count', ' URG Flag Count',\n",
       "       ' CWE Flag Count', ' ECE Flag Count', ' Down/Up Ratio',\n",
       "       ' Average Packet Size', ' Avg Fwd Segment Size',\n",
       "       ' Avg Bwd Segment Size', ' Fwd Header Length.1', 'Fwd Avg Bytes/Bulk',\n",
       "       ' Fwd Avg Packets/Bulk', ' Fwd Avg Bulk Rate', ' Bwd Avg Bytes/Bulk',\n",
       "       ' Bwd Avg Packets/Bulk', 'Bwd Avg Bulk Rate', 'Subflow Fwd Packets',\n",
       "       ' Subflow Fwd Bytes', ' Subflow Bwd Packets', ' Subflow Bwd Bytes',\n",
       "       'Init_Win_bytes_forward', ' Init_Win_bytes_backward',\n",
       "       ' act_data_pkt_fwd', ' min_seg_size_forward', 'Active Mean',\n",
       "       ' Active Std', ' Active Max', ' Active Min', 'Idle Mean', ' Idle Std',\n",
       "       ' Idle Max', ' Idle Min', 'SimillarHTTP', ' Inbound', ' Label'],\n",
       "      dtype='object')"
      ]
     },
     "execution_count": 13,
     "metadata": {},
     "output_type": "execute_result"
    }
   ],
   "source": [
    "# view the column names of the dataframe\n",
    "\n",
    "col_names = df.columns\n",
    "\n",
    "col_names"
   ]
  },
  {
   "cell_type": "code",
   "execution_count": 14,
   "id": "56311991-ba8d-467c-814a-16fe43b67615",
   "metadata": {},
   "outputs": [],
   "source": [
    "# remove leading spaces from column names\n",
    "\n",
    "df.columns = df.columns.str.strip()"
   ]
  },
  {
   "cell_type": "code",
   "execution_count": 15,
   "id": "57878295-f6c9-4c2f-b537-63dbeeefbe31",
   "metadata": {},
   "outputs": [
    {
     "data": {
      "text/plain": [
       "Index(['Unnamed: 0', 'Flow ID', 'Source IP', 'Source Port', 'Destination IP',\n",
       "       'Destination Port', 'Protocol', 'Timestamp', 'Flow Duration',\n",
       "       'Total Fwd Packets', 'Total Backward Packets',\n",
       "       'Total Length of Fwd Packets', 'Total Length of Bwd Packets',\n",
       "       'Fwd Packet Length Max', 'Fwd Packet Length Min',\n",
       "       'Fwd Packet Length Mean', 'Fwd Packet Length Std',\n",
       "       'Bwd Packet Length Max', 'Bwd Packet Length Min',\n",
       "       'Bwd Packet Length Mean', 'Bwd Packet Length Std', 'Flow Bytes/s',\n",
       "       'Flow Packets/s', 'Flow IAT Mean', 'Flow IAT Std', 'Flow IAT Max',\n",
       "       'Flow IAT Min', 'Fwd IAT Total', 'Fwd IAT Mean', 'Fwd IAT Std',\n",
       "       'Fwd IAT Max', 'Fwd IAT Min', 'Bwd IAT Total', 'Bwd IAT Mean',\n",
       "       'Bwd IAT Std', 'Bwd IAT Max', 'Bwd IAT Min', 'Fwd PSH Flags',\n",
       "       'Bwd PSH Flags', 'Fwd URG Flags', 'Bwd URG Flags', 'Fwd Header Length',\n",
       "       'Bwd Header Length', 'Fwd Packets/s', 'Bwd Packets/s',\n",
       "       'Min Packet Length', 'Max Packet Length', 'Packet Length Mean',\n",
       "       'Packet Length Std', 'Packet Length Variance', 'FIN Flag Count',\n",
       "       'SYN Flag Count', 'RST Flag Count', 'PSH Flag Count', 'ACK Flag Count',\n",
       "       'URG Flag Count', 'CWE Flag Count', 'ECE Flag Count', 'Down/Up Ratio',\n",
       "       'Average Packet Size', 'Avg Fwd Segment Size', 'Avg Bwd Segment Size',\n",
       "       'Fwd Header Length.1', 'Fwd Avg Bytes/Bulk', 'Fwd Avg Packets/Bulk',\n",
       "       'Fwd Avg Bulk Rate', 'Bwd Avg Bytes/Bulk', 'Bwd Avg Packets/Bulk',\n",
       "       'Bwd Avg Bulk Rate', 'Subflow Fwd Packets', 'Subflow Fwd Bytes',\n",
       "       'Subflow Bwd Packets', 'Subflow Bwd Bytes', 'Init_Win_bytes_forward',\n",
       "       'Init_Win_bytes_backward', 'act_data_pkt_fwd', 'min_seg_size_forward',\n",
       "       'Active Mean', 'Active Std', 'Active Max', 'Active Min', 'Idle Mean',\n",
       "       'Idle Std', 'Idle Max', 'Idle Min', 'SimillarHTTP', 'Inbound', 'Label'],\n",
       "      dtype='object')"
      ]
     },
     "execution_count": 15,
     "metadata": {},
     "output_type": "execute_result"
    }
   ],
   "source": [
    "# view column names again\n",
    "\n",
    "df.columns"
   ]
  },
  {
   "cell_type": "code",
   "execution_count": 16,
   "id": "42a0169a-3e46-457f-aec9-8d2fea8b9c7d",
   "metadata": {},
   "outputs": [
    {
     "data": {
      "text/plain": [
       "Syn        195984\n",
       "BENIGN      56965\n",
       "Portmap     23670\n",
       "LDAP        23159\n",
       "UDP         18818\n",
       "MSSQL       14043\n",
       "NetBIOS      9090\n",
       "UDPLag         61\n",
       "Name: Label, dtype: int64"
      ]
     },
     "execution_count": 16,
     "metadata": {},
     "output_type": "execute_result"
    }
   ],
   "source": [
    "# check distribution of Label column\n",
    "\n",
    "df['Label'].value_counts()"
   ]
  },
  {
   "cell_type": "code",
   "execution_count": 17,
   "id": "2b9834e0-44ff-4031-8c09-4e10334e982a",
   "metadata": {},
   "outputs": [
    {
     "data": {
      "text/plain": [
       "Syn        0.573405\n",
       "BENIGN     0.166667\n",
       "Portmap    0.069253\n",
       "LDAP       0.067758\n",
       "UDP        0.055057\n",
       "MSSQL      0.041087\n",
       "NetBIOS    0.026595\n",
       "UDPLag     0.000178\n",
       "Name: Label, dtype: float64"
      ]
     },
     "execution_count": 17,
     "metadata": {},
     "output_type": "execute_result"
    }
   ],
   "source": [
    "# view the percentage distribution of Label column\n",
    "\n",
    "df['Label'].value_counts()/np.float(len(df))"
   ]
  },
  {
   "cell_type": "code",
   "execution_count": 18,
   "id": "cc6d490f-472d-4e06-841e-4afb01923529",
   "metadata": {},
   "outputs": [
    {
     "name": "stdout",
     "output_type": "stream",
     "text": [
      "<class 'pandas.core.frame.DataFrame'>\n",
      "RangeIndex: 341790 entries, 0 to 341789\n",
      "Data columns (total 88 columns):\n",
      " #   Column                       Non-Null Count   Dtype  \n",
      "---  ------                       --------------   -----  \n",
      " 0   Unnamed: 0                   341790 non-null  int64  \n",
      " 1   Flow ID                      341790 non-null  object \n",
      " 2   Source IP                    341790 non-null  object \n",
      " 3   Source Port                  341790 non-null  int64  \n",
      " 4   Destination IP               341790 non-null  object \n",
      " 5   Destination Port             341790 non-null  int64  \n",
      " 6   Protocol                     341790 non-null  int64  \n",
      " 7   Timestamp                    341790 non-null  object \n",
      " 8   Flow Duration                341790 non-null  int64  \n",
      " 9   Total Fwd Packets            341790 non-null  int64  \n",
      " 10  Total Backward Packets       341790 non-null  int64  \n",
      " 11  Total Length of Fwd Packets  341790 non-null  float64\n",
      " 12  Total Length of Bwd Packets  341790 non-null  float64\n",
      " 13  Fwd Packet Length Max        341790 non-null  float64\n",
      " 14  Fwd Packet Length Min        341790 non-null  float64\n",
      " 15  Fwd Packet Length Mean       341790 non-null  float64\n",
      " 16  Fwd Packet Length Std        341790 non-null  float64\n",
      " 17  Bwd Packet Length Max        341790 non-null  float64\n",
      " 18  Bwd Packet Length Min        341790 non-null  float64\n",
      " 19  Bwd Packet Length Mean       341790 non-null  float64\n",
      " 20  Bwd Packet Length Std        341790 non-null  float64\n",
      " 21  Flow Bytes/s                 341744 non-null  float64\n",
      " 22  Flow Packets/s               341790 non-null  float64\n",
      " 23  Flow IAT Mean                341790 non-null  float64\n",
      " 24  Flow IAT Std                 341790 non-null  float64\n",
      " 25  Flow IAT Max                 341790 non-null  float64\n",
      " 26  Flow IAT Min                 341790 non-null  float64\n",
      " 27  Fwd IAT Total                341790 non-null  float64\n",
      " 28  Fwd IAT Mean                 341790 non-null  float64\n",
      " 29  Fwd IAT Std                  341790 non-null  float64\n",
      " 30  Fwd IAT Max                  341790 non-null  float64\n",
      " 31  Fwd IAT Min                  341790 non-null  float64\n",
      " 32  Bwd IAT Total                341790 non-null  float64\n",
      " 33  Bwd IAT Mean                 341790 non-null  float64\n",
      " 34  Bwd IAT Std                  341790 non-null  float64\n",
      " 35  Bwd IAT Max                  341790 non-null  float64\n",
      " 36  Bwd IAT Min                  341790 non-null  float64\n",
      " 37  Fwd PSH Flags                341790 non-null  int64  \n",
      " 38  Bwd PSH Flags                341790 non-null  int64  \n",
      " 39  Fwd URG Flags                341790 non-null  int64  \n",
      " 40  Bwd URG Flags                341790 non-null  int64  \n",
      " 41  Fwd Header Length            341790 non-null  int64  \n",
      " 42  Bwd Header Length            341790 non-null  int64  \n",
      " 43  Fwd Packets/s                341790 non-null  float64\n",
      " 44  Bwd Packets/s                341790 non-null  float64\n",
      " 45  Min Packet Length            341790 non-null  float64\n",
      " 46  Max Packet Length            341790 non-null  float64\n",
      " 47  Packet Length Mean           341790 non-null  float64\n",
      " 48  Packet Length Std            341790 non-null  float64\n",
      " 49  Packet Length Variance       341790 non-null  float64\n",
      " 50  FIN Flag Count               341790 non-null  int64  \n",
      " 51  SYN Flag Count               341790 non-null  int64  \n",
      " 52  RST Flag Count               341790 non-null  int64  \n",
      " 53  PSH Flag Count               341790 non-null  int64  \n",
      " 54  ACK Flag Count               341790 non-null  int64  \n",
      " 55  URG Flag Count               341790 non-null  int64  \n",
      " 56  CWE Flag Count               341790 non-null  int64  \n",
      " 57  ECE Flag Count               341790 non-null  int64  \n",
      " 58  Down/Up Ratio                341790 non-null  float64\n",
      " 59  Average Packet Size          341790 non-null  float64\n",
      " 60  Avg Fwd Segment Size         341790 non-null  float64\n",
      " 61  Avg Bwd Segment Size         341790 non-null  float64\n",
      " 62  Fwd Header Length.1          341790 non-null  int64  \n",
      " 63  Fwd Avg Bytes/Bulk           341790 non-null  int64  \n",
      " 64  Fwd Avg Packets/Bulk         341790 non-null  int64  \n",
      " 65  Fwd Avg Bulk Rate            341790 non-null  int64  \n",
      " 66  Bwd Avg Bytes/Bulk           341790 non-null  int64  \n",
      " 67  Bwd Avg Packets/Bulk         341790 non-null  int64  \n",
      " 68  Bwd Avg Bulk Rate            341790 non-null  int64  \n",
      " 69  Subflow Fwd Packets          341790 non-null  int64  \n",
      " 70  Subflow Fwd Bytes            341790 non-null  int64  \n",
      " 71  Subflow Bwd Packets          341790 non-null  int64  \n",
      " 72  Subflow Bwd Bytes            341790 non-null  int64  \n",
      " 73  Init_Win_bytes_forward       341790 non-null  int64  \n",
      " 74  Init_Win_bytes_backward      341790 non-null  int64  \n",
      " 75  act_data_pkt_fwd             341790 non-null  int64  \n",
      " 76  min_seg_size_forward         341790 non-null  int64  \n",
      " 77  Active Mean                  341790 non-null  float64\n",
      " 78  Active Std                   341790 non-null  float64\n",
      " 79  Active Max                   341790 non-null  float64\n",
      " 80  Active Min                   341790 non-null  float64\n",
      " 81  Idle Mean                    341790 non-null  float64\n",
      " 82  Idle Std                     341790 non-null  float64\n",
      " 83  Idle Max                     341790 non-null  float64\n",
      " 84  Idle Min                     341790 non-null  float64\n",
      " 85  SimillarHTTP                 341790 non-null  object \n",
      " 86  Inbound                      341790 non-null  int64  \n",
      " 87  Label                        341790 non-null  object \n",
      "dtypes: float64(45), int64(37), object(6)\n",
      "memory usage: 229.5+ MB\n"
     ]
    }
   ],
   "source": [
    "# view summary of dataset\n",
    "df.info()"
   ]
  },
  {
   "cell_type": "markdown",
   "id": "e91b2472",
   "metadata": {},
   "source": [
    "### Delete null and inf values"
   ]
  },
  {
   "cell_type": "code",
   "execution_count": 19,
   "id": "a2c6c5f9-ba30-4cac-8f73-0a492a2431ef",
   "metadata": {},
   "outputs": [
    {
     "data": {
      "text/plain": [
       "Unnamed: 0        0\n",
       "Flow ID           0\n",
       "Source IP         0\n",
       "Source Port       0\n",
       "Destination IP    0\n",
       "                 ..\n",
       "Idle Max          0\n",
       "Idle Min          0\n",
       "SimillarHTTP      0\n",
       "Inbound           0\n",
       "Label             0\n",
       "Length: 88, dtype: int64"
      ]
     },
     "execution_count": 19,
     "metadata": {},
     "output_type": "execute_result"
    }
   ],
   "source": [
    "# check for missing values in variables\n",
    "\n",
    "df.isnull().sum()"
   ]
  },
  {
   "cell_type": "code",
   "execution_count": 20,
   "id": "cbd2bb26",
   "metadata": {},
   "outputs": [
    {
     "data": {
      "text/plain": [
       "34190"
      ]
     },
     "execution_count": 20,
     "metadata": {},
     "output_type": "execute_result"
    }
   ],
   "source": [
    "df = df.replace(np.inf, np.nan)\n",
    "df.isnull().sum().sum()\n",
    "# sns.heatmap(df == np.nan)"
   ]
  },
  {
   "cell_type": "code",
   "execution_count": 21,
   "id": "cf219d00",
   "metadata": {},
   "outputs": [
    {
     "data": {
      "text/plain": [
       "0"
      ]
     },
     "execution_count": 21,
     "metadata": {},
     "output_type": "execute_result"
    }
   ],
   "source": [
    "df = df.dropna(axis=0)\n",
    "df.isnull().sum().sum()\n"
   ]
  },
  {
   "cell_type": "markdown",
   "id": "f13408cd",
   "metadata": {},
   "source": [
    "### Delete unchanged feature"
   ]
  },
  {
   "cell_type": "code",
   "execution_count": 22,
   "id": "a494aec0",
   "metadata": {},
   "outputs": [
    {
     "data": {
      "text/html": [
       "<div>\n",
       "<style scoped>\n",
       "    .dataframe tbody tr th:only-of-type {\n",
       "        vertical-align: middle;\n",
       "    }\n",
       "\n",
       "    .dataframe tbody tr th {\n",
       "        vertical-align: top;\n",
       "    }\n",
       "\n",
       "    .dataframe thead th {\n",
       "        text-align: right;\n",
       "    }\n",
       "</style>\n",
       "<table border=\"1\" class=\"dataframe\">\n",
       "  <thead>\n",
       "    <tr style=\"text-align: right;\">\n",
       "      <th></th>\n",
       "      <th>Unnamed: 0</th>\n",
       "      <th>Flow ID</th>\n",
       "      <th>Source IP</th>\n",
       "      <th>Source Port</th>\n",
       "      <th>Destination IP</th>\n",
       "      <th>Destination Port</th>\n",
       "      <th>Protocol</th>\n",
       "      <th>Timestamp</th>\n",
       "      <th>Flow Duration</th>\n",
       "      <th>Total Fwd Packets</th>\n",
       "      <th>...</th>\n",
       "      <th>Active Std</th>\n",
       "      <th>Active Max</th>\n",
       "      <th>Active Min</th>\n",
       "      <th>Idle Mean</th>\n",
       "      <th>Idle Std</th>\n",
       "      <th>Idle Max</th>\n",
       "      <th>Idle Min</th>\n",
       "      <th>SimillarHTTP</th>\n",
       "      <th>Inbound</th>\n",
       "      <th>Label</th>\n",
       "    </tr>\n",
       "  </thead>\n",
       "  <tbody>\n",
       "    <tr>\n",
       "      <th>0</th>\n",
       "      <td>0</td>\n",
       "      <td>172.217.2.174-192.168.50.8-80-60015-6</td>\n",
       "      <td>192.168.50.8</td>\n",
       "      <td>60015</td>\n",
       "      <td>172.217.2.174</td>\n",
       "      <td>80</td>\n",
       "      <td>6</td>\n",
       "      <td>2018-11-03 10:09:00.744475</td>\n",
       "      <td>1</td>\n",
       "      <td>2</td>\n",
       "      <td>...</td>\n",
       "      <td>0.000000</td>\n",
       "      <td>0.0</td>\n",
       "      <td>0.0</td>\n",
       "      <td>0.0</td>\n",
       "      <td>0.000000e+00</td>\n",
       "      <td>0.0</td>\n",
       "      <td>0.0</td>\n",
       "      <td>0</td>\n",
       "      <td>0</td>\n",
       "      <td>BENIGN</td>\n",
       "    </tr>\n",
       "    <tr>\n",
       "      <th>1</th>\n",
       "      <td>1</td>\n",
       "      <td>172.217.2.174-192.168.50.8-80-60015-6</td>\n",
       "      <td>172.217.2.174</td>\n",
       "      <td>80</td>\n",
       "      <td>192.168.50.8</td>\n",
       "      <td>60015</td>\n",
       "      <td>6</td>\n",
       "      <td>2018-11-03 10:09:00.771179</td>\n",
       "      <td>47</td>\n",
       "      <td>2</td>\n",
       "      <td>...</td>\n",
       "      <td>0.000000</td>\n",
       "      <td>0.0</td>\n",
       "      <td>0.0</td>\n",
       "      <td>0.0</td>\n",
       "      <td>0.000000e+00</td>\n",
       "      <td>0.0</td>\n",
       "      <td>0.0</td>\n",
       "      <td>0</td>\n",
       "      <td>1</td>\n",
       "      <td>BENIGN</td>\n",
       "    </tr>\n",
       "    <tr>\n",
       "      <th>2</th>\n",
       "      <td>93506</td>\n",
       "      <td>172.217.2.174-192.168.50.8-80-60015-6</td>\n",
       "      <td>192.168.50.8</td>\n",
       "      <td>60015</td>\n",
       "      <td>172.217.2.174</td>\n",
       "      <td>80</td>\n",
       "      <td>6</td>\n",
       "      <td>2018-11-03 10:09:00.771382</td>\n",
       "      <td>1</td>\n",
       "      <td>2</td>\n",
       "      <td>...</td>\n",
       "      <td>0.000000</td>\n",
       "      <td>0.0</td>\n",
       "      <td>0.0</td>\n",
       "      <td>0.0</td>\n",
       "      <td>0.000000e+00</td>\n",
       "      <td>0.0</td>\n",
       "      <td>0.0</td>\n",
       "      <td>0</td>\n",
       "      <td>0</td>\n",
       "      <td>BENIGN</td>\n",
       "    </tr>\n",
       "    <tr>\n",
       "      <th>3</th>\n",
       "      <td>8849</td>\n",
       "      <td>172.217.10.2-192.168.50.8-443-60007-6</td>\n",
       "      <td>172.217.10.2</td>\n",
       "      <td>443</td>\n",
       "      <td>192.168.50.8</td>\n",
       "      <td>60007</td>\n",
       "      <td>6</td>\n",
       "      <td>2018-11-03 10:09:00.947429</td>\n",
       "      <td>8001234</td>\n",
       "      <td>4</td>\n",
       "      <td>...</td>\n",
       "      <td>0.000000</td>\n",
       "      <td>1.0</td>\n",
       "      <td>1.0</td>\n",
       "      <td>8001232.0</td>\n",
       "      <td>0.000000e+00</td>\n",
       "      <td>8001232.0</td>\n",
       "      <td>8001232.0</td>\n",
       "      <td>0</td>\n",
       "      <td>1</td>\n",
       "      <td>BENIGN</td>\n",
       "    </tr>\n",
       "    <tr>\n",
       "      <th>4</th>\n",
       "      <td>283</td>\n",
       "      <td>172.217.6.225-192.168.50.6-443-55310-6</td>\n",
       "      <td>192.168.50.6</td>\n",
       "      <td>55310</td>\n",
       "      <td>172.217.6.225</td>\n",
       "      <td>443</td>\n",
       "      <td>6</td>\n",
       "      <td>2018-11-03 10:09:01.188827</td>\n",
       "      <td>112729696</td>\n",
       "      <td>13</td>\n",
       "      <td>...</td>\n",
       "      <td>82.024387</td>\n",
       "      <td>62271.0</td>\n",
       "      <td>62155.0</td>\n",
       "      <td>56301460.5</td>\n",
       "      <td>3.535899e+06</td>\n",
       "      <td>58801719.0</td>\n",
       "      <td>53801202.0</td>\n",
       "      <td>0</td>\n",
       "      <td>0</td>\n",
       "      <td>BENIGN</td>\n",
       "    </tr>\n",
       "    <tr>\n",
       "      <th>...</th>\n",
       "      <td>...</td>\n",
       "      <td>...</td>\n",
       "      <td>...</td>\n",
       "      <td>...</td>\n",
       "      <td>...</td>\n",
       "      <td>...</td>\n",
       "      <td>...</td>\n",
       "      <td>...</td>\n",
       "      <td>...</td>\n",
       "      <td>...</td>\n",
       "      <td>...</td>\n",
       "      <td>...</td>\n",
       "      <td>...</td>\n",
       "      <td>...</td>\n",
       "      <td>...</td>\n",
       "      <td>...</td>\n",
       "      <td>...</td>\n",
       "      <td>...</td>\n",
       "      <td>...</td>\n",
       "      <td>...</td>\n",
       "      <td>...</td>\n",
       "    </tr>\n",
       "    <tr>\n",
       "      <th>341785</th>\n",
       "      <td>66043</td>\n",
       "      <td>172.16.0.5-192.168.50.4-60529-10445-17</td>\n",
       "      <td>172.16.0.5</td>\n",
       "      <td>60529</td>\n",
       "      <td>192.168.50.4</td>\n",
       "      <td>10445</td>\n",
       "      <td>17</td>\n",
       "      <td>2018-11-03 11:02:25.950633</td>\n",
       "      <td>3</td>\n",
       "      <td>2</td>\n",
       "      <td>...</td>\n",
       "      <td>0.000000</td>\n",
       "      <td>0.0</td>\n",
       "      <td>0.0</td>\n",
       "      <td>0.0</td>\n",
       "      <td>0.000000e+00</td>\n",
       "      <td>0.0</td>\n",
       "      <td>0.0</td>\n",
       "      <td>0</td>\n",
       "      <td>1</td>\n",
       "      <td>UDP</td>\n",
       "    </tr>\n",
       "    <tr>\n",
       "      <th>341786</th>\n",
       "      <td>113913</td>\n",
       "      <td>172.16.0.5-192.168.50.4-57114-2527-17</td>\n",
       "      <td>172.16.0.5</td>\n",
       "      <td>57114</td>\n",
       "      <td>192.168.50.4</td>\n",
       "      <td>2527</td>\n",
       "      <td>17</td>\n",
       "      <td>2018-11-03 11:02:07.603834</td>\n",
       "      <td>47</td>\n",
       "      <td>2</td>\n",
       "      <td>...</td>\n",
       "      <td>0.000000</td>\n",
       "      <td>0.0</td>\n",
       "      <td>0.0</td>\n",
       "      <td>0.0</td>\n",
       "      <td>0.000000e+00</td>\n",
       "      <td>0.0</td>\n",
       "      <td>0.0</td>\n",
       "      <td>0</td>\n",
       "      <td>1</td>\n",
       "      <td>UDP</td>\n",
       "    </tr>\n",
       "    <tr>\n",
       "      <th>341787</th>\n",
       "      <td>40160</td>\n",
       "      <td>172.16.0.5-192.168.50.4-12879-14035-6</td>\n",
       "      <td>172.16.0.5</td>\n",
       "      <td>12879</td>\n",
       "      <td>192.168.50.4</td>\n",
       "      <td>14035</td>\n",
       "      <td>6</td>\n",
       "      <td>2018-11-03 11:29:25.457011</td>\n",
       "      <td>49</td>\n",
       "      <td>2</td>\n",
       "      <td>...</td>\n",
       "      <td>0.000000</td>\n",
       "      <td>0.0</td>\n",
       "      <td>0.0</td>\n",
       "      <td>0.0</td>\n",
       "      <td>0.000000e+00</td>\n",
       "      <td>0.0</td>\n",
       "      <td>0.0</td>\n",
       "      <td>0</td>\n",
       "      <td>1</td>\n",
       "      <td>Syn</td>\n",
       "    </tr>\n",
       "    <tr>\n",
       "      <th>341788</th>\n",
       "      <td>20077</td>\n",
       "      <td>172.16.0.5-192.168.50.4-59094-16896-17</td>\n",
       "      <td>172.16.0.5</td>\n",
       "      <td>59094</td>\n",
       "      <td>192.168.50.4</td>\n",
       "      <td>16896</td>\n",
       "      <td>17</td>\n",
       "      <td>2018-11-03 11:01:47.333346</td>\n",
       "      <td>1</td>\n",
       "      <td>2</td>\n",
       "      <td>...</td>\n",
       "      <td>0.000000</td>\n",
       "      <td>0.0</td>\n",
       "      <td>0.0</td>\n",
       "      <td>0.0</td>\n",
       "      <td>0.000000e+00</td>\n",
       "      <td>0.0</td>\n",
       "      <td>0.0</td>\n",
       "      <td>0</td>\n",
       "      <td>1</td>\n",
       "      <td>UDP</td>\n",
       "    </tr>\n",
       "    <tr>\n",
       "      <th>341789</th>\n",
       "      <td>312938</td>\n",
       "      <td>172.16.0.5-192.168.50.4-19187-45762-6</td>\n",
       "      <td>172.16.0.5</td>\n",
       "      <td>19187</td>\n",
       "      <td>192.168.50.4</td>\n",
       "      <td>45762</td>\n",
       "      <td>6</td>\n",
       "      <td>2018-11-03 11:30:15.929237</td>\n",
       "      <td>107</td>\n",
       "      <td>2</td>\n",
       "      <td>...</td>\n",
       "      <td>0.000000</td>\n",
       "      <td>0.0</td>\n",
       "      <td>0.0</td>\n",
       "      <td>0.0</td>\n",
       "      <td>0.000000e+00</td>\n",
       "      <td>0.0</td>\n",
       "      <td>0.0</td>\n",
       "      <td>0</td>\n",
       "      <td>1</td>\n",
       "      <td>Syn</td>\n",
       "    </tr>\n",
       "  </tbody>\n",
       "</table>\n",
       "<p>324695 rows × 76 columns</p>\n",
       "</div>"
      ],
      "text/plain": [
       "        Unnamed: 0                                 Flow ID      Source IP  \\\n",
       "0                0   172.217.2.174-192.168.50.8-80-60015-6   192.168.50.8   \n",
       "1                1   172.217.2.174-192.168.50.8-80-60015-6  172.217.2.174   \n",
       "2            93506   172.217.2.174-192.168.50.8-80-60015-6   192.168.50.8   \n",
       "3             8849   172.217.10.2-192.168.50.8-443-60007-6   172.217.10.2   \n",
       "4              283  172.217.6.225-192.168.50.6-443-55310-6   192.168.50.6   \n",
       "...            ...                                     ...            ...   \n",
       "341785       66043  172.16.0.5-192.168.50.4-60529-10445-17     172.16.0.5   \n",
       "341786      113913   172.16.0.5-192.168.50.4-57114-2527-17     172.16.0.5   \n",
       "341787       40160   172.16.0.5-192.168.50.4-12879-14035-6     172.16.0.5   \n",
       "341788       20077  172.16.0.5-192.168.50.4-59094-16896-17     172.16.0.5   \n",
       "341789      312938   172.16.0.5-192.168.50.4-19187-45762-6     172.16.0.5   \n",
       "\n",
       "        Source Port Destination IP  Destination Port  Protocol  \\\n",
       "0             60015  172.217.2.174                80         6   \n",
       "1                80   192.168.50.8             60015         6   \n",
       "2             60015  172.217.2.174                80         6   \n",
       "3               443   192.168.50.8             60007         6   \n",
       "4             55310  172.217.6.225               443         6   \n",
       "...             ...            ...               ...       ...   \n",
       "341785        60529   192.168.50.4             10445        17   \n",
       "341786        57114   192.168.50.4              2527        17   \n",
       "341787        12879   192.168.50.4             14035         6   \n",
       "341788        59094   192.168.50.4             16896        17   \n",
       "341789        19187   192.168.50.4             45762         6   \n",
       "\n",
       "                         Timestamp  Flow Duration  Total Fwd Packets  ...  \\\n",
       "0       2018-11-03 10:09:00.744475              1                  2  ...   \n",
       "1       2018-11-03 10:09:00.771179             47                  2  ...   \n",
       "2       2018-11-03 10:09:00.771382              1                  2  ...   \n",
       "3       2018-11-03 10:09:00.947429        8001234                  4  ...   \n",
       "4       2018-11-03 10:09:01.188827      112729696                 13  ...   \n",
       "...                            ...            ...                ...  ...   \n",
       "341785  2018-11-03 11:02:25.950633              3                  2  ...   \n",
       "341786  2018-11-03 11:02:07.603834             47                  2  ...   \n",
       "341787  2018-11-03 11:29:25.457011             49                  2  ...   \n",
       "341788  2018-11-03 11:01:47.333346              1                  2  ...   \n",
       "341789  2018-11-03 11:30:15.929237            107                  2  ...   \n",
       "\n",
       "        Active Std  Active Max  Active Min   Idle Mean      Idle Std  \\\n",
       "0         0.000000         0.0         0.0         0.0  0.000000e+00   \n",
       "1         0.000000         0.0         0.0         0.0  0.000000e+00   \n",
       "2         0.000000         0.0         0.0         0.0  0.000000e+00   \n",
       "3         0.000000         1.0         1.0   8001232.0  0.000000e+00   \n",
       "4        82.024387     62271.0     62155.0  56301460.5  3.535899e+06   \n",
       "...            ...         ...         ...         ...           ...   \n",
       "341785    0.000000         0.0         0.0         0.0  0.000000e+00   \n",
       "341786    0.000000         0.0         0.0         0.0  0.000000e+00   \n",
       "341787    0.000000         0.0         0.0         0.0  0.000000e+00   \n",
       "341788    0.000000         0.0         0.0         0.0  0.000000e+00   \n",
       "341789    0.000000         0.0         0.0         0.0  0.000000e+00   \n",
       "\n",
       "          Idle Max    Idle Min  SimillarHTTP  Inbound   Label  \n",
       "0              0.0         0.0             0        0  BENIGN  \n",
       "1              0.0         0.0             0        1  BENIGN  \n",
       "2              0.0         0.0             0        0  BENIGN  \n",
       "3        8001232.0   8001232.0             0        1  BENIGN  \n",
       "4       58801719.0  53801202.0             0        0  BENIGN  \n",
       "...            ...         ...           ...      ...     ...  \n",
       "341785         0.0         0.0             0        1     UDP  \n",
       "341786         0.0         0.0             0        1     UDP  \n",
       "341787         0.0         0.0             0        1     Syn  \n",
       "341788         0.0         0.0             0        1     UDP  \n",
       "341789         0.0         0.0             0        1     Syn  \n",
       "\n",
       "[324695 rows x 76 columns]"
      ]
     },
     "execution_count": 22,
     "metadata": {},
     "output_type": "execute_result"
    }
   ],
   "source": [
    "df_std = pd.DataFrame(df.std(), columns = ['value'])\n",
    "unchange_col = df_std[df_std['value'] == 0].index\n",
    "df = df.drop(unchange_col, axis=1)\n",
    "df"
   ]
  },
  {
   "cell_type": "markdown",
   "id": "6bcf8f4f",
   "metadata": {},
   "source": [
    "### Delete useless feature"
   ]
  },
  {
   "cell_type": "code",
   "execution_count": 23,
   "id": "92cc6d10",
   "metadata": {},
   "outputs": [
    {
     "data": {
      "text/plain": [
       "Index(['Flow ID', 'Source IP', 'Destination IP', 'Timestamp', 'SimillarHTTP',\n",
       "       'Label'],\n",
       "      dtype='object')"
      ]
     },
     "execution_count": 23,
     "metadata": {},
     "output_type": "execute_result"
    }
   ],
   "source": [
    "df_object = df.select_dtypes(include='object')\n",
    "df_object.columns"
   ]
  },
  {
   "cell_type": "code",
   "execution_count": 24,
   "id": "9f123346",
   "metadata": {},
   "outputs": [],
   "source": [
    "df = df.drop(['Flow ID', 'Source IP', 'Destination IP'], axis=1)"
   ]
  },
  {
   "cell_type": "code",
   "execution_count": 25,
   "id": "84ff91cf",
   "metadata": {},
   "outputs": [
    {
     "data": {
      "text/plain": [
       "2018-11-03 11:40:04.987018    4\n",
       "2018-11-03 11:44:33.322910    4\n",
       "2018-11-03 11:53:06.723378    2\n",
       "2018-11-03 11:37:15.229363    2\n",
       "2018-11-03 11:37:04.890545    2\n",
       "                             ..\n",
       "2018-11-03 10:01:32.113417    1\n",
       "2018-11-03 10:01:32.823091    1\n",
       "2018-11-03 10:01:32.294404    1\n",
       "2018-11-03 10:01:45.776954    1\n",
       "2018-11-03 11:30:15.929237    1\n",
       "Name: Timestamp, Length: 319474, dtype: int64"
      ]
     },
     "execution_count": 25,
     "metadata": {},
     "output_type": "execute_result"
    }
   ],
   "source": [
    "df['Timestamp'].value_counts()"
   ]
  },
  {
   "cell_type": "code",
   "execution_count": 26,
   "id": "6810c5f7",
   "metadata": {},
   "outputs": [],
   "source": [
    "df.drop(['Timestamp'], axis=1, inplace = True)"
   ]
  },
  {
   "cell_type": "code",
   "execution_count": 27,
   "id": "29023a3b",
   "metadata": {},
   "outputs": [
    {
     "data": {
      "text/plain": [
       "0                                                       268019\n",
       "0                                                        54951\n",
       "ocsp.pki.goog/GTSGIAG3                                     340\n",
       "ocsp.digicert.com/                                         212\n",
       "ocsp.comodoca.com/                                          99\n",
       "                                                         ...  \n",
       "assets-jpcust.jwpsrv.com/thumbnails/i8pd15n8-720.jpg         1\n",
       "content.bitsontherun.com/thumbs/Tm76dUbW-720.jpg             1\n",
       "assets-jpcust.jwpsrv.com/thumbnails/3lyez1rw-320.jpg         1\n",
       "assets-jpcust.jwpsrv.com/thumbnails/0c0srtdb-320.jpg         1\n",
       "ocsp1.digicert.com/                                          1\n",
       "Name: SimillarHTTP, Length: 231, dtype: int64"
      ]
     },
     "execution_count": 27,
     "metadata": {},
     "output_type": "execute_result"
    }
   ],
   "source": [
    "df['SimillarHTTP'].value_counts()"
   ]
  },
  {
   "cell_type": "code",
   "execution_count": 28,
   "id": "3983ba43",
   "metadata": {
    "scrolled": true
   },
   "outputs": [],
   "source": [
    "df.drop(['SimillarHTTP'], axis=1, inplace = True)\n"
   ]
  },
  {
   "cell_type": "code",
   "execution_count": 29,
   "id": "96e05cd6",
   "metadata": {},
   "outputs": [],
   "source": [
    "df.drop(['Unnamed: 0'], axis=1, inplace = True)"
   ]
  },
  {
   "cell_type": "code",
   "execution_count": 30,
   "id": "851513ae",
   "metadata": {},
   "outputs": [
    {
     "data": {
      "text/plain": [
       "Syn        182539\n",
       "BENIGN      56306\n",
       "LDAP        22651\n",
       "Portmap     22393\n",
       "UDP         18490\n",
       "MSSQL       13565\n",
       "NetBIOS      8690\n",
       "UDPLag         61\n",
       "Name: Label, dtype: int64"
      ]
     },
     "execution_count": 30,
     "metadata": {},
     "output_type": "execute_result"
    }
   ],
   "source": [
    "df['Label'].value_counts()"
   ]
  },
  {
   "cell_type": "code",
   "execution_count": 31,
   "id": "692d94a1-2073-48e8-8fd3-872d452d020b",
   "metadata": {},
   "outputs": [
    {
     "name": "stdout",
     "output_type": "stream",
     "text": [
      "1    268389\n",
      "0     56306\n",
      "Name: Label, dtype: int64\n"
     ]
    }
   ],
   "source": [
    "#Chuyển dạng tấn công về 1,Dạng không tấn công về 0\n",
    "df['Label'] = df['Label'].replace('BENIGN', 0)\n",
    "df['Label'] = df['Label'].replace('Syn', 1)\n",
    "df['Label'] = df['Label'].replace('LDAP', 1)\n",
    "df['Label'] = df['Label'].replace('Portmap', 1)\n",
    "df['Label'] = df['Label'].replace('UDP', 1)\n",
    "df['Label'] = df['Label'].replace('MSSQL', 1)\n",
    "df['Label'] = df['Label'].replace('NetBIOS', 1)\n",
    "df['Label'] = df['Label'].replace('UDPLag', 1)\n",
    "\n",
    "print(df['Label'].value_counts())"
   ]
  },
  {
   "cell_type": "markdown",
   "id": "0d89b650",
   "metadata": {},
   "source": [
    "### visualize_confusion_matrix\n"
   ]
  },
  {
   "cell_type": "code",
   "execution_count": 32,
   "id": "f3654840",
   "metadata": {},
   "outputs": [],
   "source": [
    "from sklearn.metrics import confusion_matrix\n",
    "from sklearn.metrics import precision_score, recall_score, f1_score, accuracy_score\n",
    "def visualize_confusion_matrix(y_true, y_pred):\n",
    "  conf_matrix = confusion_matrix(y_true, y_pred)\n",
    "  # Print the confusion matrix using Matplotlib\n",
    "  fig, ax = plt.subplots(figsize=(5, 5))\n",
    "  ax.matshow(conf_matrix, cmap=plt.cm.Oranges, alpha=0.3)\n",
    "  for i in range(conf_matrix.shape[0]):\n",
    "      for j in range(conf_matrix.shape[1]):\n",
    "          ax.text(x=j, y=i,s=conf_matrix[i, j], va='center', ha='center', size='x-large')\n",
    "\n",
    "  plt.xlabel('Predictions', fontsize=18)\n",
    "  plt.ylabel('Actuals', fontsize=18)\n",
    "  plt.title('Confusion Matrix', fontsize=18)\n",
    "  plt.show()"
   ]
  },
  {
   "cell_type": "markdown",
   "id": "834ad7f0",
   "metadata": {},
   "source": [
    "#### Z-score"
   ]
  },
  {
   "cell_type": "code",
   "execution_count": 33,
   "id": "2d7c976c",
   "metadata": {},
   "outputs": [],
   "source": [
    "def z_score(input_df):\n",
    "    # copy the data\n",
    "    df_z_scaled = input_df\n",
    "\n",
    "    # apply normalization techniques\n",
    "    for column in df_z_scaled.columns:\n",
    "        df_z_scaled[column] = (df_z_scaled[column] -\n",
    "                               df_z_scaled[column].mean()) / df_z_scaled[column].std()    \n",
    "\n",
    "    # view normalized data   \n",
    "    return df_z_scaled"
   ]
  },
  {
   "cell_type": "markdown",
   "id": "f9ec41aa-abda-4e33-8f2f-6c32a7e80d17",
   "metadata": {},
   "source": [
    "### Declare feature vector and target variable"
   ]
  },
  {
   "cell_type": "code",
   "execution_count": 34,
   "id": "4e8ad576",
   "metadata": {},
   "outputs": [
    {
     "data": {
      "text/plain": [
       "1    268389\n",
       "0     56306\n",
       "Name: Label, dtype: int64"
      ]
     },
     "execution_count": 34,
     "metadata": {},
     "output_type": "execute_result"
    }
   ],
   "source": [
    "X = df.drop(['Label'], axis=1)\n",
    "y = df['Label']\n",
    "y.value_counts()\n"
   ]
  },
  {
   "cell_type": "markdown",
   "id": "f063411b-bdbe-469b-bb3f-ff1f0f22ef96",
   "metadata": {},
   "source": [
    "### Explore missing values in variables"
   ]
  },
  {
   "cell_type": "code",
   "execution_count": 35,
   "id": "dbf9fb82-cd09-4016-b05a-e80507777732",
   "metadata": {},
   "outputs": [
    {
     "data": {
      "text/plain": [
       "Source Port          0\n",
       "Destination Port     0\n",
       "Protocol             0\n",
       "Flow Duration        0\n",
       "Total Fwd Packets    0\n",
       "                    ..\n",
       "Idle Std             0\n",
       "Idle Max             0\n",
       "Idle Min             0\n",
       "Inbound              0\n",
       "Label                0\n",
       "Length: 70, dtype: int64"
      ]
     },
     "execution_count": 35,
     "metadata": {},
     "output_type": "execute_result"
    }
   ],
   "source": [
    "df.isnull().sum()"
   ]
  },
  {
   "cell_type": "markdown",
   "id": "b655a66c-52e6-41a2-9537-e8dcf1bf4052",
   "metadata": {},
   "source": [
    "### Outliers in numerical variables"
   ]
  },
  {
   "cell_type": "code",
   "execution_count": 36,
   "id": "7fd6d8af-65e7-48f4-ab04-9db397b54f66",
   "metadata": {},
   "outputs": [
    {
     "data": {
      "text/html": [
       "<div>\n",
       "<style scoped>\n",
       "    .dataframe tbody tr th:only-of-type {\n",
       "        vertical-align: middle;\n",
       "    }\n",
       "\n",
       "    .dataframe tbody tr th {\n",
       "        vertical-align: top;\n",
       "    }\n",
       "\n",
       "    .dataframe thead th {\n",
       "        text-align: right;\n",
       "    }\n",
       "</style>\n",
       "<table border=\"1\" class=\"dataframe\">\n",
       "  <thead>\n",
       "    <tr style=\"text-align: right;\">\n",
       "      <th></th>\n",
       "      <th>Source Port</th>\n",
       "      <th>Destination Port</th>\n",
       "      <th>Protocol</th>\n",
       "      <th>Flow Duration</th>\n",
       "      <th>Total Fwd Packets</th>\n",
       "      <th>Total Backward Packets</th>\n",
       "      <th>Total Length of Fwd Packets</th>\n",
       "      <th>Total Length of Bwd Packets</th>\n",
       "      <th>Fwd Packet Length Max</th>\n",
       "      <th>Fwd Packet Length Min</th>\n",
       "      <th>...</th>\n",
       "      <th>Active Mean</th>\n",
       "      <th>Active Std</th>\n",
       "      <th>Active Max</th>\n",
       "      <th>Active Min</th>\n",
       "      <th>Idle Mean</th>\n",
       "      <th>Idle Std</th>\n",
       "      <th>Idle Max</th>\n",
       "      <th>Idle Min</th>\n",
       "      <th>Inbound</th>\n",
       "      <th>Label</th>\n",
       "    </tr>\n",
       "  </thead>\n",
       "  <tbody>\n",
       "    <tr>\n",
       "      <th>count</th>\n",
       "      <td>324695.00</td>\n",
       "      <td>324695.00</td>\n",
       "      <td>324695.00</td>\n",
       "      <td>324695.0</td>\n",
       "      <td>324695.00</td>\n",
       "      <td>324695.00</td>\n",
       "      <td>324695.00</td>\n",
       "      <td>324695.00</td>\n",
       "      <td>324695.00</td>\n",
       "      <td>324695.00</td>\n",
       "      <td>...</td>\n",
       "      <td>324695.00</td>\n",
       "      <td>324695.00</td>\n",
       "      <td>324695.00</td>\n",
       "      <td>324695.00</td>\n",
       "      <td>3.246950e+05</td>\n",
       "      <td>324695.00</td>\n",
       "      <td>3.246950e+05</td>\n",
       "      <td>3.246950e+05</td>\n",
       "      <td>324695.00</td>\n",
       "      <td>324695.00</td>\n",
       "    </tr>\n",
       "    <tr>\n",
       "      <th>mean</th>\n",
       "      <td>32729.04</td>\n",
       "      <td>29018.39</td>\n",
       "      <td>9.44</td>\n",
       "      <td>5405708.6</td>\n",
       "      <td>4.25</td>\n",
       "      <td>2.46</td>\n",
       "      <td>541.45</td>\n",
       "      <td>1442.91</td>\n",
       "      <td>203.11</td>\n",
       "      <td>174.41</td>\n",
       "      <td>...</td>\n",
       "      <td>26089.87</td>\n",
       "      <td>20493.01</td>\n",
       "      <td>53144.14</td>\n",
       "      <td>14117.62</td>\n",
       "      <td>1.708460e+06</td>\n",
       "      <td>350848.95</td>\n",
       "      <td>2.078057e+06</td>\n",
       "      <td>1.385452e+06</td>\n",
       "      <td>0.86</td>\n",
       "      <td>0.83</td>\n",
       "    </tr>\n",
       "    <tr>\n",
       "      <th>std</th>\n",
       "      <td>22864.81</td>\n",
       "      <td>21100.68</td>\n",
       "      <td>5.13</td>\n",
       "      <td>19014104.8</td>\n",
       "      <td>157.44</td>\n",
       "      <td>63.28</td>\n",
       "      <td>1931.76</td>\n",
       "      <td>113281.72</td>\n",
       "      <td>418.24</td>\n",
       "      <td>384.16</td>\n",
       "      <td>...</td>\n",
       "      <td>285619.13</td>\n",
       "      <td>205868.56</td>\n",
       "      <td>473289.06</td>\n",
       "      <td>246997.10</td>\n",
       "      <td>6.904952e+06</td>\n",
       "      <td>1762037.83</td>\n",
       "      <td>7.893144e+06</td>\n",
       "      <td>6.318684e+06</td>\n",
       "      <td>0.35</td>\n",
       "      <td>0.38</td>\n",
       "    </tr>\n",
       "    <tr>\n",
       "      <th>min</th>\n",
       "      <td>0.00</td>\n",
       "      <td>0.00</td>\n",
       "      <td>0.00</td>\n",
       "      <td>1.0</td>\n",
       "      <td>1.00</td>\n",
       "      <td>0.00</td>\n",
       "      <td>0.00</td>\n",
       "      <td>0.00</td>\n",
       "      <td>0.00</td>\n",
       "      <td>0.00</td>\n",
       "      <td>...</td>\n",
       "      <td>0.00</td>\n",
       "      <td>0.00</td>\n",
       "      <td>0.00</td>\n",
       "      <td>0.00</td>\n",
       "      <td>0.000000e+00</td>\n",
       "      <td>0.00</td>\n",
       "      <td>0.000000e+00</td>\n",
       "      <td>0.000000e+00</td>\n",
       "      <td>0.00</td>\n",
       "      <td>0.00</td>\n",
       "    </tr>\n",
       "    <tr>\n",
       "      <th>25%</th>\n",
       "      <td>9366.50</td>\n",
       "      <td>8849.00</td>\n",
       "      <td>6.00</td>\n",
       "      <td>1.0</td>\n",
       "      <td>2.00</td>\n",
       "      <td>0.00</td>\n",
       "      <td>12.00</td>\n",
       "      <td>0.00</td>\n",
       "      <td>6.00</td>\n",
       "      <td>6.00</td>\n",
       "      <td>...</td>\n",
       "      <td>0.00</td>\n",
       "      <td>0.00</td>\n",
       "      <td>0.00</td>\n",
       "      <td>0.00</td>\n",
       "      <td>0.000000e+00</td>\n",
       "      <td>0.00</td>\n",
       "      <td>0.000000e+00</td>\n",
       "      <td>0.000000e+00</td>\n",
       "      <td>1.00</td>\n",
       "      <td>1.00</td>\n",
       "    </tr>\n",
       "    <tr>\n",
       "      <th>50%</th>\n",
       "      <td>36004.00</td>\n",
       "      <td>28723.00</td>\n",
       "      <td>6.00</td>\n",
       "      <td>46.0</td>\n",
       "      <td>2.00</td>\n",
       "      <td>0.00</td>\n",
       "      <td>12.00</td>\n",
       "      <td>0.00</td>\n",
       "      <td>6.00</td>\n",
       "      <td>6.00</td>\n",
       "      <td>...</td>\n",
       "      <td>0.00</td>\n",
       "      <td>0.00</td>\n",
       "      <td>0.00</td>\n",
       "      <td>0.00</td>\n",
       "      <td>0.000000e+00</td>\n",
       "      <td>0.00</td>\n",
       "      <td>0.000000e+00</td>\n",
       "      <td>0.000000e+00</td>\n",
       "      <td>1.00</td>\n",
       "      <td>1.00</td>\n",
       "    </tr>\n",
       "    <tr>\n",
       "      <th>75%</th>\n",
       "      <td>54836.00</td>\n",
       "      <td>47880.00</td>\n",
       "      <td>17.00</td>\n",
       "      <td>120.0</td>\n",
       "      <td>2.00</td>\n",
       "      <td>2.00</td>\n",
       "      <td>458.00</td>\n",
       "      <td>12.00</td>\n",
       "      <td>229.00</td>\n",
       "      <td>229.00</td>\n",
       "      <td>...</td>\n",
       "      <td>0.00</td>\n",
       "      <td>0.00</td>\n",
       "      <td>0.00</td>\n",
       "      <td>0.00</td>\n",
       "      <td>0.000000e+00</td>\n",
       "      <td>0.00</td>\n",
       "      <td>0.000000e+00</td>\n",
       "      <td>0.000000e+00</td>\n",
       "      <td>1.00</td>\n",
       "      <td>1.00</td>\n",
       "    </tr>\n",
       "    <tr>\n",
       "      <th>max</th>\n",
       "      <td>65534.00</td>\n",
       "      <td>65535.00</td>\n",
       "      <td>17.00</td>\n",
       "      <td>119997515.0</td>\n",
       "      <td>86720.00</td>\n",
       "      <td>31700.00</td>\n",
       "      <td>208524.00</td>\n",
       "      <td>58429504.00</td>\n",
       "      <td>3625.00</td>\n",
       "      <td>2131.00</td>\n",
       "      <td>...</td>\n",
       "      <td>40507998.00</td>\n",
       "      <td>21352441.65</td>\n",
       "      <td>45536681.00</td>\n",
       "      <td>40507998.00</td>\n",
       "      <td>1.175692e+08</td>\n",
       "      <td>69614023.38</td>\n",
       "      <td>1.175692e+08</td>\n",
       "      <td>1.175692e+08</td>\n",
       "      <td>1.00</td>\n",
       "      <td>1.00</td>\n",
       "    </tr>\n",
       "  </tbody>\n",
       "</table>\n",
       "<p>8 rows × 70 columns</p>\n",
       "</div>"
      ],
      "text/plain": [
       "       Source Port  Destination Port   Protocol  Flow Duration  \\\n",
       "count    324695.00         324695.00  324695.00       324695.0   \n",
       "mean      32729.04          29018.39       9.44      5405708.6   \n",
       "std       22864.81          21100.68       5.13     19014104.8   \n",
       "min           0.00              0.00       0.00            1.0   \n",
       "25%        9366.50           8849.00       6.00            1.0   \n",
       "50%       36004.00          28723.00       6.00           46.0   \n",
       "75%       54836.00          47880.00      17.00          120.0   \n",
       "max       65534.00          65535.00      17.00    119997515.0   \n",
       "\n",
       "       Total Fwd Packets  Total Backward Packets  Total Length of Fwd Packets  \\\n",
       "count          324695.00               324695.00                    324695.00   \n",
       "mean                4.25                    2.46                       541.45   \n",
       "std               157.44                   63.28                      1931.76   \n",
       "min                 1.00                    0.00                         0.00   \n",
       "25%                 2.00                    0.00                        12.00   \n",
       "50%                 2.00                    0.00                        12.00   \n",
       "75%                 2.00                    2.00                       458.00   \n",
       "max             86720.00                31700.00                    208524.00   \n",
       "\n",
       "       Total Length of Bwd Packets  Fwd Packet Length Max  \\\n",
       "count                    324695.00              324695.00   \n",
       "mean                       1442.91                 203.11   \n",
       "std                      113281.72                 418.24   \n",
       "min                           0.00                   0.00   \n",
       "25%                           0.00                   6.00   \n",
       "50%                           0.00                   6.00   \n",
       "75%                          12.00                 229.00   \n",
       "max                    58429504.00                3625.00   \n",
       "\n",
       "       Fwd Packet Length Min  ...  Active Mean   Active Std   Active Max  \\\n",
       "count              324695.00  ...    324695.00    324695.00    324695.00   \n",
       "mean                  174.41  ...     26089.87     20493.01     53144.14   \n",
       "std                   384.16  ...    285619.13    205868.56    473289.06   \n",
       "min                     0.00  ...         0.00         0.00         0.00   \n",
       "25%                     6.00  ...         0.00         0.00         0.00   \n",
       "50%                     6.00  ...         0.00         0.00         0.00   \n",
       "75%                   229.00  ...         0.00         0.00         0.00   \n",
       "max                  2131.00  ...  40507998.00  21352441.65  45536681.00   \n",
       "\n",
       "        Active Min     Idle Mean     Idle Std      Idle Max      Idle Min  \\\n",
       "count    324695.00  3.246950e+05    324695.00  3.246950e+05  3.246950e+05   \n",
       "mean      14117.62  1.708460e+06    350848.95  2.078057e+06  1.385452e+06   \n",
       "std      246997.10  6.904952e+06   1762037.83  7.893144e+06  6.318684e+06   \n",
       "min           0.00  0.000000e+00         0.00  0.000000e+00  0.000000e+00   \n",
       "25%           0.00  0.000000e+00         0.00  0.000000e+00  0.000000e+00   \n",
       "50%           0.00  0.000000e+00         0.00  0.000000e+00  0.000000e+00   \n",
       "75%           0.00  0.000000e+00         0.00  0.000000e+00  0.000000e+00   \n",
       "max    40507998.00  1.175692e+08  69614023.38  1.175692e+08  1.175692e+08   \n",
       "\n",
       "         Inbound      Label  \n",
       "count  324695.00  324695.00  \n",
       "mean        0.86       0.83  \n",
       "std         0.35       0.38  \n",
       "min         0.00       0.00  \n",
       "25%         1.00       1.00  \n",
       "50%         1.00       1.00  \n",
       "75%         1.00       1.00  \n",
       "max         1.00       1.00  \n",
       "\n",
       "[8 rows x 70 columns]"
      ]
     },
     "execution_count": 36,
     "metadata": {},
     "output_type": "execute_result"
    }
   ],
   "source": [
    "round(df.describe(),2)"
   ]
  },
  {
   "cell_type": "markdown",
   "id": "e56afd00-fad6-48d2-bffe-04b9f4213f83",
   "metadata": {},
   "source": [
    "### Split data into separate training and test set"
   ]
  },
  {
   "cell_type": "code",
   "execution_count": 37,
   "id": "9b72f03f-bda1-4e9b-86be-eddfcd026a79",
   "metadata": {},
   "outputs": [],
   "source": [
    "# split X and y into training and testing sets\n",
    "\n",
    "from sklearn.model_selection import train_test_split\n",
    "\n",
    "X_train, X_test, y_train, y_test = train_test_split(X, y, test_size = 0.25, random_state = 0)"
   ]
  },
  {
   "cell_type": "code",
   "execution_count": 38,
   "id": "5422e4fe-7135-4e07-a761-f9cb01c51e1b",
   "metadata": {},
   "outputs": [
    {
     "data": {
      "text/plain": [
       "((243521, 69), (81174, 69))"
      ]
     },
     "execution_count": 38,
     "metadata": {},
     "output_type": "execute_result"
    }
   ],
   "source": [
    "# check the shape of X_train and X_test\n",
    "\n",
    "X_train.shape, X_test.shape"
   ]
  },
  {
   "cell_type": "markdown",
   "id": "b23ca23b-4389-4e0a-a14b-fd14a17131c8",
   "metadata": {},
   "source": [
    "### Feature Scaling"
   ]
  },
  {
   "cell_type": "code",
   "execution_count": 39,
   "id": "ec960af3-9024-4f3c-b4b7-c36fc30ff054",
   "metadata": {},
   "outputs": [],
   "source": [
    "cols = X_train.columns"
   ]
  },
  {
   "cell_type": "code",
   "execution_count": 1,
   "id": "f466afd1-66fe-49b3-b026-5b40071820da",
   "metadata": {},
   "outputs": [
    {
     "ename": "NameError",
     "evalue": "name 'X_train' is not defined",
     "output_type": "error",
     "traceback": [
      "\u001b[1;31m---------------------------------------------------------------------------\u001b[0m",
      "\u001b[1;31mNameError\u001b[0m                                 Traceback (most recent call last)",
      "Cell \u001b[1;32mIn[1], line 5\u001b[0m\n\u001b[0;32m      1\u001b[0m \u001b[39mfrom\u001b[39;00m \u001b[39msklearn\u001b[39;00m\u001b[39m.\u001b[39;00m\u001b[39mpreprocessing\u001b[39;00m \u001b[39mimport\u001b[39;00m StandardScaler\n\u001b[0;32m      3\u001b[0m scaler \u001b[39m=\u001b[39m StandardScaler()\n\u001b[1;32m----> 5\u001b[0m X_train \u001b[39m=\u001b[39m scaler\u001b[39m.\u001b[39mfit_transform(X_train)\n\u001b[0;32m      7\u001b[0m X_test \u001b[39m=\u001b[39m scaler\u001b[39m.\u001b[39mtransform(X_test)\n",
      "\u001b[1;31mNameError\u001b[0m: name 'X_train' is not defined"
     ]
    }
   ],
   "source": [
    "from sklearn.preprocessing import StandardScaler\n",
    "\n",
    "scaler = StandardScaler()\n",
    "\n",
    "X_train = scaler.fit_transform(X_train)\n",
    "\n",
    "X_test = scaler.transform(X_test)"
   ]
  },
  {
   "cell_type": "code",
   "execution_count": 41,
   "id": "3bd49830-4f3b-4d34-a1d2-d8ee5235fafa",
   "metadata": {},
   "outputs": [],
   "source": [
    "X_train = pd.DataFrame(X_train, columns=[cols])"
   ]
  },
  {
   "cell_type": "code",
   "execution_count": 42,
   "id": "31586396-3354-4c63-8db4-5de702b0c954",
   "metadata": {},
   "outputs": [],
   "source": [
    "X_test = pd.DataFrame(X_test, columns=[cols])"
   ]
  },
  {
   "cell_type": "code",
   "execution_count": 43,
   "id": "20d56a83-5ef5-4c2d-82de-182cba8a2d78",
   "metadata": {},
   "outputs": [
    {
     "data": {
      "text/html": [
       "<div>\n",
       "<style scoped>\n",
       "    .dataframe tbody tr th:only-of-type {\n",
       "        vertical-align: middle;\n",
       "    }\n",
       "\n",
       "    .dataframe tbody tr th {\n",
       "        vertical-align: top;\n",
       "    }\n",
       "\n",
       "    .dataframe thead tr th {\n",
       "        text-align: left;\n",
       "    }\n",
       "</style>\n",
       "<table border=\"1\" class=\"dataframe\">\n",
       "  <thead>\n",
       "    <tr>\n",
       "      <th></th>\n",
       "      <th>Source Port</th>\n",
       "      <th>Destination Port</th>\n",
       "      <th>Protocol</th>\n",
       "      <th>Flow Duration</th>\n",
       "      <th>Total Fwd Packets</th>\n",
       "      <th>Total Backward Packets</th>\n",
       "      <th>Total Length of Fwd Packets</th>\n",
       "      <th>Total Length of Bwd Packets</th>\n",
       "      <th>Fwd Packet Length Max</th>\n",
       "      <th>Fwd Packet Length Min</th>\n",
       "      <th>...</th>\n",
       "      <th>min_seg_size_forward</th>\n",
       "      <th>Active Mean</th>\n",
       "      <th>Active Std</th>\n",
       "      <th>Active Max</th>\n",
       "      <th>Active Min</th>\n",
       "      <th>Idle Mean</th>\n",
       "      <th>Idle Std</th>\n",
       "      <th>Idle Max</th>\n",
       "      <th>Idle Min</th>\n",
       "      <th>Inbound</th>\n",
       "    </tr>\n",
       "  </thead>\n",
       "  <tbody>\n",
       "    <tr>\n",
       "      <th>count</th>\n",
       "      <td>2.435210e+05</td>\n",
       "      <td>2.435210e+05</td>\n",
       "      <td>2.435210e+05</td>\n",
       "      <td>2.435210e+05</td>\n",
       "      <td>2.435210e+05</td>\n",
       "      <td>2.435210e+05</td>\n",
       "      <td>2.435210e+05</td>\n",
       "      <td>2.435210e+05</td>\n",
       "      <td>2.435210e+05</td>\n",
       "      <td>2.435210e+05</td>\n",
       "      <td>...</td>\n",
       "      <td>2.435210e+05</td>\n",
       "      <td>2.435210e+05</td>\n",
       "      <td>2.435210e+05</td>\n",
       "      <td>2.435210e+05</td>\n",
       "      <td>2.435210e+05</td>\n",
       "      <td>2.435210e+05</td>\n",
       "      <td>2.435210e+05</td>\n",
       "      <td>2.435210e+05</td>\n",
       "      <td>2.435210e+05</td>\n",
       "      <td>2.435210e+05</td>\n",
       "    </tr>\n",
       "    <tr>\n",
       "      <th>mean</th>\n",
       "      <td>-1.796491e-18</td>\n",
       "      <td>-5.570696e-17</td>\n",
       "      <td>4.335527e-15</td>\n",
       "      <td>-1.903151e-15</td>\n",
       "      <td>1.511071e-15</td>\n",
       "      <td>1.665409e-15</td>\n",
       "      <td>-3.977954e-15</td>\n",
       "      <td>3.117580e-15</td>\n",
       "      <td>-1.176357e-15</td>\n",
       "      <td>1.361895e-15</td>\n",
       "      <td>...</td>\n",
       "      <td>-6.010768e-15</td>\n",
       "      <td>-2.536983e-15</td>\n",
       "      <td>1.041221e-15</td>\n",
       "      <td>-1.175870e-16</td>\n",
       "      <td>2.289550e-15</td>\n",
       "      <td>1.743733e-15</td>\n",
       "      <td>2.581989e-15</td>\n",
       "      <td>1.449637e-15</td>\n",
       "      <td>-3.214096e-15</td>\n",
       "      <td>1.512075e-15</td>\n",
       "    </tr>\n",
       "    <tr>\n",
       "      <th>std</th>\n",
       "      <td>1.000002e+00</td>\n",
       "      <td>1.000002e+00</td>\n",
       "      <td>1.000002e+00</td>\n",
       "      <td>1.000002e+00</td>\n",
       "      <td>1.000002e+00</td>\n",
       "      <td>1.000002e+00</td>\n",
       "      <td>1.000002e+00</td>\n",
       "      <td>1.000002e+00</td>\n",
       "      <td>1.000002e+00</td>\n",
       "      <td>1.000002e+00</td>\n",
       "      <td>...</td>\n",
       "      <td>1.000002e+00</td>\n",
       "      <td>1.000002e+00</td>\n",
       "      <td>1.000002e+00</td>\n",
       "      <td>1.000002e+00</td>\n",
       "      <td>1.000002e+00</td>\n",
       "      <td>1.000002e+00</td>\n",
       "      <td>1.000002e+00</td>\n",
       "      <td>1.000002e+00</td>\n",
       "      <td>1.000002e+00</td>\n",
       "      <td>1.000002e+00</td>\n",
       "    </tr>\n",
       "    <tr>\n",
       "      <th>min</th>\n",
       "      <td>-1.430782e+00</td>\n",
       "      <td>-1.376488e+00</td>\n",
       "      <td>-1.839786e+00</td>\n",
       "      <td>-2.849483e-01</td>\n",
       "      <td>-6.622632e-02</td>\n",
       "      <td>-3.501241e-02</td>\n",
       "      <td>-2.733980e-01</td>\n",
       "      <td>-1.160106e-02</td>\n",
       "      <td>-4.862078e-01</td>\n",
       "      <td>-4.544939e-01</td>\n",
       "      <td>...</td>\n",
       "      <td>-1.290864e+01</td>\n",
       "      <td>-9.220328e-02</td>\n",
       "      <td>-1.015615e-01</td>\n",
       "      <td>-1.137737e-01</td>\n",
       "      <td>-5.731538e-02</td>\n",
       "      <td>-2.478006e-01</td>\n",
       "      <td>-2.001421e-01</td>\n",
       "      <td>-2.636900e-01</td>\n",
       "      <td>-2.195028e-01</td>\n",
       "      <td>-2.497288e+00</td>\n",
       "    </tr>\n",
       "    <tr>\n",
       "      <th>25%</th>\n",
       "      <td>-1.022733e+00</td>\n",
       "      <td>-9.556703e-01</td>\n",
       "      <td>-6.712245e-01</td>\n",
       "      <td>-2.849483e-01</td>\n",
       "      <td>-4.405982e-02</td>\n",
       "      <td>-3.501241e-02</td>\n",
       "      <td>-2.673441e-01</td>\n",
       "      <td>-1.160106e-02</td>\n",
       "      <td>-4.718548e-01</td>\n",
       "      <td>-4.388975e-01</td>\n",
       "      <td>...</td>\n",
       "      <td>1.028857e-01</td>\n",
       "      <td>-9.220328e-02</td>\n",
       "      <td>-1.015615e-01</td>\n",
       "      <td>-1.137737e-01</td>\n",
       "      <td>-5.731538e-02</td>\n",
       "      <td>-2.478006e-01</td>\n",
       "      <td>-2.001421e-01</td>\n",
       "      <td>-2.636900e-01</td>\n",
       "      <td>-2.195028e-01</td>\n",
       "      <td>4.004343e-01</td>\n",
       "    </tr>\n",
       "    <tr>\n",
       "      <th>50%</th>\n",
       "      <td>1.430774e-01</td>\n",
       "      <td>-1.379844e-02</td>\n",
       "      <td>-6.712245e-01</td>\n",
       "      <td>-2.849460e-01</td>\n",
       "      <td>-4.405982e-02</td>\n",
       "      <td>-3.501241e-02</td>\n",
       "      <td>-2.673441e-01</td>\n",
       "      <td>-1.160106e-02</td>\n",
       "      <td>-4.718548e-01</td>\n",
       "      <td>-4.388975e-01</td>\n",
       "      <td>...</td>\n",
       "      <td>1.028857e-01</td>\n",
       "      <td>-9.220328e-02</td>\n",
       "      <td>-1.015615e-01</td>\n",
       "      <td>-1.137737e-01</td>\n",
       "      <td>-5.731538e-02</td>\n",
       "      <td>-2.478006e-01</td>\n",
       "      <td>-2.001421e-01</td>\n",
       "      <td>-2.636900e-01</td>\n",
       "      <td>-2.195028e-01</td>\n",
       "      <td>4.004343e-01</td>\n",
       "    </tr>\n",
       "    <tr>\n",
       "      <th>75%</th>\n",
       "      <td>9.672217e-01</td>\n",
       "      <td>8.935072e-01</td>\n",
       "      <td>1.471139e+00</td>\n",
       "      <td>-2.849420e-01</td>\n",
       "      <td>-4.405982e-02</td>\n",
       "      <td>-6.663041e-03</td>\n",
       "      <td>-4.234100e-02</td>\n",
       "      <td>-1.150647e-02</td>\n",
       "      <td>6.159786e-02</td>\n",
       "      <td>1.407693e-01</td>\n",
       "      <td>...</td>\n",
       "      <td>1.028857e-01</td>\n",
       "      <td>-9.220328e-02</td>\n",
       "      <td>-1.015615e-01</td>\n",
       "      <td>-1.137737e-01</td>\n",
       "      <td>-5.731538e-02</td>\n",
       "      <td>-2.478006e-01</td>\n",
       "      <td>-2.001421e-01</td>\n",
       "      <td>-2.636900e-01</td>\n",
       "      <td>-2.195028e-01</td>\n",
       "      <td>4.004343e-01</td>\n",
       "    </tr>\n",
       "    <tr>\n",
       "      <th>max</th>\n",
       "      <td>1.435050e+00</td>\n",
       "      <td>1.730922e+00</td>\n",
       "      <td>1.471139e+00</td>\n",
       "      <td>6.029721e+00</td>\n",
       "      <td>4.530834e+02</td>\n",
       "      <td>4.493025e+02</td>\n",
       "      <td>1.049251e+02</td>\n",
       "      <td>4.605338e+02</td>\n",
       "      <td>8.185389e+00</td>\n",
       "      <td>5.084833e+00</td>\n",
       "      <td>...</td>\n",
       "      <td>1.028992e-01</td>\n",
       "      <td>1.426281e+02</td>\n",
       "      <td>6.827251e+01</td>\n",
       "      <td>8.631809e+01</td>\n",
       "      <td>1.650058e+02</td>\n",
       "      <td>1.678689e+01</td>\n",
       "      <td>3.524496e+01</td>\n",
       "      <td>1.462969e+01</td>\n",
       "      <td>1.840917e+01</td>\n",
       "      <td>4.004343e-01</td>\n",
       "    </tr>\n",
       "  </tbody>\n",
       "</table>\n",
       "<p>8 rows × 69 columns</p>\n",
       "</div>"
      ],
      "text/plain": [
       "        Source Port Destination Port      Protocol Flow Duration  \\\n",
       "count  2.435210e+05     2.435210e+05  2.435210e+05  2.435210e+05   \n",
       "mean  -1.796491e-18    -5.570696e-17  4.335527e-15 -1.903151e-15   \n",
       "std    1.000002e+00     1.000002e+00  1.000002e+00  1.000002e+00   \n",
       "min   -1.430782e+00    -1.376488e+00 -1.839786e+00 -2.849483e-01   \n",
       "25%   -1.022733e+00    -9.556703e-01 -6.712245e-01 -2.849483e-01   \n",
       "50%    1.430774e-01    -1.379844e-02 -6.712245e-01 -2.849460e-01   \n",
       "75%    9.672217e-01     8.935072e-01  1.471139e+00 -2.849420e-01   \n",
       "max    1.435050e+00     1.730922e+00  1.471139e+00  6.029721e+00   \n",
       "\n",
       "      Total Fwd Packets Total Backward Packets Total Length of Fwd Packets  \\\n",
       "count      2.435210e+05           2.435210e+05                2.435210e+05   \n",
       "mean       1.511071e-15           1.665409e-15               -3.977954e-15   \n",
       "std        1.000002e+00           1.000002e+00                1.000002e+00   \n",
       "min       -6.622632e-02          -3.501241e-02               -2.733980e-01   \n",
       "25%       -4.405982e-02          -3.501241e-02               -2.673441e-01   \n",
       "50%       -4.405982e-02          -3.501241e-02               -2.673441e-01   \n",
       "75%       -4.405982e-02          -6.663041e-03               -4.234100e-02   \n",
       "max        4.530834e+02           4.493025e+02                1.049251e+02   \n",
       "\n",
       "      Total Length of Bwd Packets Fwd Packet Length Max Fwd Packet Length Min  \\\n",
       "count                2.435210e+05          2.435210e+05          2.435210e+05   \n",
       "mean                 3.117580e-15         -1.176357e-15          1.361895e-15   \n",
       "std                  1.000002e+00          1.000002e+00          1.000002e+00   \n",
       "min                 -1.160106e-02         -4.862078e-01         -4.544939e-01   \n",
       "25%                 -1.160106e-02         -4.718548e-01         -4.388975e-01   \n",
       "50%                 -1.160106e-02         -4.718548e-01         -4.388975e-01   \n",
       "75%                 -1.150647e-02          6.159786e-02          1.407693e-01   \n",
       "max                  4.605338e+02          8.185389e+00          5.084833e+00   \n",
       "\n",
       "       ... min_seg_size_forward   Active Mean    Active Std    Active Max  \\\n",
       "count  ...         2.435210e+05  2.435210e+05  2.435210e+05  2.435210e+05   \n",
       "mean   ...        -6.010768e-15 -2.536983e-15  1.041221e-15 -1.175870e-16   \n",
       "std    ...         1.000002e+00  1.000002e+00  1.000002e+00  1.000002e+00   \n",
       "min    ...        -1.290864e+01 -9.220328e-02 -1.015615e-01 -1.137737e-01   \n",
       "25%    ...         1.028857e-01 -9.220328e-02 -1.015615e-01 -1.137737e-01   \n",
       "50%    ...         1.028857e-01 -9.220328e-02 -1.015615e-01 -1.137737e-01   \n",
       "75%    ...         1.028857e-01 -9.220328e-02 -1.015615e-01 -1.137737e-01   \n",
       "max    ...         1.028992e-01  1.426281e+02  6.827251e+01  8.631809e+01   \n",
       "\n",
       "         Active Min     Idle Mean      Idle Std      Idle Max      Idle Min  \\\n",
       "count  2.435210e+05  2.435210e+05  2.435210e+05  2.435210e+05  2.435210e+05   \n",
       "mean   2.289550e-15  1.743733e-15  2.581989e-15  1.449637e-15 -3.214096e-15   \n",
       "std    1.000002e+00  1.000002e+00  1.000002e+00  1.000002e+00  1.000002e+00   \n",
       "min   -5.731538e-02 -2.478006e-01 -2.001421e-01 -2.636900e-01 -2.195028e-01   \n",
       "25%   -5.731538e-02 -2.478006e-01 -2.001421e-01 -2.636900e-01 -2.195028e-01   \n",
       "50%   -5.731538e-02 -2.478006e-01 -2.001421e-01 -2.636900e-01 -2.195028e-01   \n",
       "75%   -5.731538e-02 -2.478006e-01 -2.001421e-01 -2.636900e-01 -2.195028e-01   \n",
       "max    1.650058e+02  1.678689e+01  3.524496e+01  1.462969e+01  1.840917e+01   \n",
       "\n",
       "            Inbound  \n",
       "count  2.435210e+05  \n",
       "mean   1.512075e-15  \n",
       "std    1.000002e+00  \n",
       "min   -2.497288e+00  \n",
       "25%    4.004343e-01  \n",
       "50%    4.004343e-01  \n",
       "75%    4.004343e-01  \n",
       "max    4.004343e-01  \n",
       "\n",
       "[8 rows x 69 columns]"
      ]
     },
     "execution_count": 43,
     "metadata": {},
     "output_type": "execute_result"
    }
   ],
   "source": [
    "X_train.describe()"
   ]
  },
  {
   "cell_type": "markdown",
   "id": "bef7dd70-a055-4242-931d-43dfc0973b31",
   "metadata": {},
   "source": [
    "## Run SVM with default hyperparameters"
   ]
  },
  {
   "cell_type": "code",
   "execution_count": 44,
   "id": "92bd3fec-e7dd-45e7-a4ff-448f2a7ad2e4",
   "metadata": {},
   "outputs": [
    {
     "name": "stdout",
     "output_type": "stream",
     "text": [
      "Model accuracy score with default hyperparameters: 0.9993\n"
     ]
    }
   ],
   "source": [
    "# instantiate classifier with default hyperparameters\n",
    "svc=SVC() \n",
    "\n",
    "\n",
    "# fit classifier to training set\n",
    "svc.fit(X_train,y_train)\n",
    "\n",
    "# make predictions on test set\n",
    "y_pred=svc.predict(X_test)\n",
    "\n",
    "\n",
    "# compute and print accuracy score\n",
    "print('Model accuracy score with default hyperparameters: {0:0.4f}'. format(accuracy_score(y_test, y_pred)))"
   ]
  },
  {
   "cell_type": "markdown",
   "id": "01d61f0c-75b2-4736-96d7-2388d2ad5d99",
   "metadata": {},
   "source": [
    "## Run SVM with rbf kernel and C=100.0"
   ]
  },
  {
   "cell_type": "code",
   "execution_count": 45,
   "id": "41a7d2e2-6528-4be5-8882-d387ff215a9d",
   "metadata": {},
   "outputs": [
    {
     "name": "stdout",
     "output_type": "stream",
     "text": [
      "Model accuracy score with rbf kernel and C=100.0 : 0.9998\n"
     ]
    }
   ],
   "source": [
    "# instantiate classifier with rbf kernel and C=100\n",
    "svc=SVC(C=100.0) \n",
    "\n",
    "\n",
    "# fit classifier to training set\n",
    "svc.fit(X_train,y_train)\n",
    "\n",
    "\n",
    "# make predictions on test set\n",
    "y_pred=svc.predict(X_test)\n",
    "\n",
    "\n",
    "# compute and print accuracy score\n",
    "print('Model accuracy score with rbf kernel and C=100.0 : {0:0.4f}'. format(accuracy_score(y_test, y_pred)))"
   ]
  },
  {
   "cell_type": "markdown",
   "id": "d224a799-0bfc-43cd-8054-15b5fbfef177",
   "metadata": {},
   "source": [
    "## Run SVM with rbf kernel and C=1000.0"
   ]
  },
  {
   "cell_type": "code",
   "execution_count": 46,
   "id": "1fbfe024-35cb-4177-9b0c-4132a30690c1",
   "metadata": {},
   "outputs": [
    {
     "name": "stdout",
     "output_type": "stream",
     "text": [
      "Model accuracy score with rbf kernel and C=1000.0 : 0.9998\n"
     ]
    }
   ],
   "source": [
    "# instantiate classifier with rbf kernel and C=1000\n",
    "svc=SVC(C=1000.0) \n",
    "\n",
    "\n",
    "# fit classifier to training set\n",
    "svc.fit(X_train,y_train)\n",
    "\n",
    "\n",
    "# make predictions on test set\n",
    "y_pred=svc.predict(X_test)\n",
    "\n",
    "\n",
    "# compute and print accuracy score\n",
    "print('Model accuracy score with rbf kernel and C=1000.0 : {0:0.4f}'. format(accuracy_score(y_test, y_pred)))"
   ]
  },
  {
   "cell_type": "markdown",
   "id": "5020d9f8-9641-472d-a2f9-bb4e7fd7a183",
   "metadata": {},
   "source": [
    "# Run SVM with linear kernel\n",
    "### Run SVM with linear kernel and C=1.0"
   ]
  },
  {
   "cell_type": "code",
   "execution_count": 47,
   "id": "58a4fc21-980e-4def-b5f5-e467f0814a46",
   "metadata": {},
   "outputs": [
    {
     "name": "stdout",
     "output_type": "stream",
     "text": [
      "Model accuracy score with linear kernel and C=1.0 : 0.9990\n"
     ]
    }
   ],
   "source": [
    "# instantiate classifier with linear kernel and C=1.0\n",
    "linear_svc=SVC(kernel='linear', C=1.0) \n",
    "\n",
    "\n",
    "# fit classifier to training set\n",
    "linear_svc.fit(X_train,y_train)\n",
    "\n",
    "\n",
    "# make predictions on test set\n",
    "y_pred_test=linear_svc.predict(X_test)\n",
    "\n",
    "\n",
    "# compute and print accuracy score\n",
    "print('Model accuracy score with linear kernel and C=1.0 : {0:0.4f}'. format(accuracy_score(y_test, y_pred_test)))"
   ]
  },
  {
   "cell_type": "markdown",
   "id": "10eaf8aa-f762-42b2-a711-af2bdfc490f9",
   "metadata": {},
   "source": [
    "### Run SVM with linear kernel and C=100.0"
   ]
  },
  {
   "cell_type": "code",
   "execution_count": 48,
   "id": "3e359939-ade1-4e33-967b-6878310fa4cc",
   "metadata": {},
   "outputs": [
    {
     "name": "stdout",
     "output_type": "stream",
     "text": [
      "Model accuracy score with linear kernel and C=100.0 : 0.9990\n"
     ]
    }
   ],
   "source": [
    "# instantiate classifier with linear kernel and C=100.0\n",
    "linear_svc100=SVC(kernel='linear', C=100.0) \n",
    "\n",
    "\n",
    "# fit classifier to training set\n",
    "linear_svc100.fit(X_train, y_train)\n",
    "\n",
    "\n",
    "# make predictions on test set\n",
    "y_pred=linear_svc100.predict(X_test)\n",
    "\n",
    "\n",
    "# compute and print accuracy score\n",
    "print('Model accuracy score with linear kernel and C=100.0 : {0:0.4f}'. format(accuracy_score(y_test, y_pred)))"
   ]
  },
  {
   "cell_type": "markdown",
   "id": "c63ab64e-69a8-45ce-a6bc-59663c825232",
   "metadata": {
    "tags": []
   },
   "source": [
    "### Run SVM with linear kernel and C=1000.0"
   ]
  },
  {
   "cell_type": "code",
   "execution_count": 49,
   "id": "a872c056-aaf8-4213-b4f2-9fc20c7b9070",
   "metadata": {},
   "outputs": [
    {
     "name": "stdout",
     "output_type": "stream",
     "text": [
      "Model accuracy score with linear kernel and C=1000.0 : 0.9990\n"
     ]
    }
   ],
   "source": [
    "# instantiate classifier with linear kernel and C=1000.0\n",
    "linear_svc1000=SVC(kernel='linear', C=1000.0) \n",
    "\n",
    "\n",
    "# fit classifier to training set\n",
    "linear_svc1000.fit(X_train, y_train)\n",
    "\n",
    "\n",
    "# make predictions on test set\n",
    "y_pred=linear_svc1000.predict(X_test)\n",
    "\n",
    "\n",
    "# compute and print accuracy score\n",
    "print('Model accuracy score with linear kernel and C=1000.0 : {0:0.4f}'. format(accuracy_score(y_test, y_pred)))"
   ]
  },
  {
   "cell_type": "markdown",
   "id": "d806ba99-6796-42b9-b5f7-f3636990cb4d",
   "metadata": {},
   "source": [
    "### Compare the train-set and test-set accuracy"
   ]
  },
  {
   "cell_type": "code",
   "execution_count": 50,
   "id": "45a2ba7f-2d9e-4419-b007-18aec119d467",
   "metadata": {},
   "outputs": [
    {
     "data": {
      "text/plain": [
       "array([1, 1, 1, ..., 1, 1, 1], dtype=int64)"
      ]
     },
     "execution_count": 50,
     "metadata": {},
     "output_type": "execute_result"
    }
   ],
   "source": [
    "y_pred_train = linear_svc.predict(X_train)\n",
    "\n",
    "y_pred_train"
   ]
  },
  {
   "cell_type": "code",
   "execution_count": 51,
   "id": "c841fe64-faa5-42cf-b243-715f22c0a383",
   "metadata": {},
   "outputs": [
    {
     "name": "stdout",
     "output_type": "stream",
     "text": [
      "Training-set accuracy score: 0.9991\n"
     ]
    }
   ],
   "source": [
    "print('Training-set accuracy score: {0:0.4f}'. format(accuracy_score(y_train, y_pred_train)))"
   ]
  },
  {
   "cell_type": "markdown",
   "id": "8f7d258c-bd36-478b-a41e-57138e77d22c",
   "metadata": {},
   "source": [
    "### Check for overfitting and underfitting"
   ]
  },
  {
   "cell_type": "code",
   "execution_count": 52,
   "id": "c24b39ac-8691-4bb1-8ad0-068d6f68652f",
   "metadata": {},
   "outputs": [
    {
     "name": "stdout",
     "output_type": "stream",
     "text": [
      "Training set score: 0.9991\n",
      "Test set score: 0.9990\n"
     ]
    }
   ],
   "source": [
    "# print the scores on training and test set\n",
    "\n",
    "print('Training set score: {:.4f}'.format(linear_svc.score(X_train, y_train)))\n",
    "\n",
    "print('Test set score: {:.4f}'.format(linear_svc.score(X_test, y_test)))"
   ]
  },
  {
   "cell_type": "markdown",
   "id": "77c7bc5c-c54b-472a-8473-08595500bed1",
   "metadata": {},
   "source": [
    "### Compare model accuracy with null accuracy"
   ]
  },
  {
   "cell_type": "code",
   "execution_count": 53,
   "id": "e175724e-936e-4af4-aa4d-bff76b535584",
   "metadata": {},
   "outputs": [
    {
     "data": {
      "text/plain": [
       "1    66967\n",
       "0    14207\n",
       "Name: Label, dtype: int64"
      ]
     },
     "execution_count": 53,
     "metadata": {},
     "output_type": "execute_result"
    }
   ],
   "source": [
    "# check class distribution in test set\n",
    "\n",
    "y_test.value_counts()"
   ]
  },
  {
   "cell_type": "code",
   "execution_count": 70,
   "id": "872dde9c-151b-484e-a758-385a6093be1f",
   "metadata": {},
   "outputs": [
    {
     "name": "stdout",
     "output_type": "stream",
     "text": [
      "Null accuracy score: 0.8250\n"
     ]
    }
   ],
   "source": [
    "# check null accuracy score\n",
    "\n",
    "null_accuracy = (66967/(66967+14207))\n",
    "\n",
    "print('Null accuracy score: {0:0.4f}'. format(null_accuracy))"
   ]
  },
  {
   "cell_type": "markdown",
   "id": "60d4f80a-3212-4bf9-8278-c1c962ed6946",
   "metadata": {},
   "source": [
    "# Run SVM with sigmoid kernel\n",
    "### Run SVM with sigmoid kernel and C=1.0"
   ]
  },
  {
   "cell_type": "code",
   "execution_count": 55,
   "id": "043ba4e0-6f26-465a-920b-5bd0181d5580",
   "metadata": {},
   "outputs": [
    {
     "name": "stdout",
     "output_type": "stream",
     "text": [
      "Model accuracy score with sigmoid kernel and C=1.0 : 0.9570\n"
     ]
    }
   ],
   "source": [
    "# instantiate classifier with sigmoid kernel and C=1.0\n",
    "sigmoid_svc=SVC(kernel='sigmoid', C=1.0) \n",
    "\n",
    "\n",
    "# fit classifier to training set\n",
    "sigmoid_svc.fit(X_train,y_train)\n",
    "\n",
    "\n",
    "# make predictions on test set\n",
    "y_pred=sigmoid_svc.predict(X_test)\n",
    "\n",
    "\n",
    "# compute and print accuracy score\n",
    "print('Model accuracy score with sigmoid kernel and C=1.0 : {0:0.4f}'. format(accuracy_score(y_test, y_pred)))"
   ]
  },
  {
   "cell_type": "markdown",
   "id": "822e2575-f23c-47da-9e65-4e4193e53caa",
   "metadata": {},
   "source": [
    "### Run SVM with sigmoid kernel and C=100.0"
   ]
  },
  {
   "cell_type": "code",
   "execution_count": 56,
   "id": "a2be2cce-8d4f-4701-b927-dda47f65e502",
   "metadata": {},
   "outputs": [
    {
     "name": "stdout",
     "output_type": "stream",
     "text": [
      "Model accuracy score with sigmoid kernel and C=100.0 : 0.9564\n"
     ]
    }
   ],
   "source": [
    "# instantiate classifier with sigmoid kernel and C=100.0\n",
    "sigmoid_svc100=SVC(kernel='sigmoid', C=100.0) \n",
    "\n",
    "\n",
    "# fit classifier to training set\n",
    "sigmoid_svc100.fit(X_train,y_train)\n",
    "\n",
    "\n",
    "# make predictions on test set\n",
    "y_pred=sigmoid_svc100.predict(X_test)\n",
    "\n",
    "\n",
    "# compute and print accuracy score\n",
    "print('Model accuracy score with sigmoid kernel and C=100.0 : {0:0.4f}'. format(accuracy_score(y_test, y_pred)))"
   ]
  },
  {
   "cell_type": "markdown",
   "id": "55d7c4af-d5b5-4ac4-a15e-9cc406d239ca",
   "metadata": {},
   "source": [
    "# Confusion matrix"
   ]
  },
  {
   "cell_type": "code",
   "execution_count": 57,
   "id": "998552ff-287d-4092-b69f-1d238003c583",
   "metadata": {},
   "outputs": [
    {
     "name": "stdout",
     "output_type": "stream",
     "text": [
      "Confusion matrix\n",
      "\n",
      " [[14193    14]\n",
      " [   67 66900]]\n",
      "\n",
      "True Positives(TP) =  14193\n",
      "\n",
      "True Negatives(TN) =  66900\n",
      "\n",
      "False Positives(FP) =  14\n",
      "\n",
      "False Negatives(FN) =  67\n"
     ]
    }
   ],
   "source": [
    "# Print the Confusion Matrix and slice it into four pieces\n",
    "\n",
    "from sklearn.metrics import confusion_matrix\n",
    "\n",
    "cm = confusion_matrix(y_test, y_pred_test)\n",
    "\n",
    "print('Confusion matrix\\n\\n', cm)\n",
    "\n",
    "print('\\nTrue Positives(TP) = ', cm[0,0])\n",
    "\n",
    "print('\\nTrue Negatives(TN) = ', cm[1,1])\n",
    "\n",
    "print('\\nFalse Positives(FP) = ', cm[0,1])\n",
    "\n",
    "print('\\nFalse Negatives(FN) = ', cm[1,0])"
   ]
  },
  {
   "cell_type": "code",
   "execution_count": 58,
   "id": "1371bf12-a41e-4277-86e6-ba8a0bd2f582",
   "metadata": {},
   "outputs": [
    {
     "data": {
      "text/plain": [
       "<AxesSubplot:>"
      ]
     },
     "execution_count": 58,
     "metadata": {},
     "output_type": "execute_result"
    },
    {
     "data": {
      "image/png": "[encoded data removed]",
      "text/plain": [
       "<Figure size 640x480 with 2 Axes>"
      ]
     },
     "metadata": {},
     "output_type": "display_data"
    }
   ],
   "source": [
    "# visualize confusion matrix with seaborn heatmap\n",
    "\n",
    "cm_matrix = pd.DataFrame(data=cm, columns=['Actual Positive:1', 'Actual Negative:0'], \n",
    "                                 index=['Predict Positive:1', 'Predict Negative:0'])\n",
    "\n",
    "sns.heatmap(cm_matrix, annot=True, fmt='d', cmap='YlGnBu')"
   ]
  },
  {
   "cell_type": "markdown",
   "id": "06c50160-f3f0-476e-9d8f-62c9110b63c2",
   "metadata": {},
   "source": [
    "# Classification metrices\n",
    "### Classification Report"
   ]
  },
  {
   "cell_type": "code",
   "execution_count": 59,
   "id": "f809998a-5660-48f1-974a-76ce581ecc96",
   "metadata": {},
   "outputs": [
    {
     "name": "stdout",
     "output_type": "stream",
     "text": [
      "              precision    recall  f1-score   support\n",
      "\n",
      "           0       1.00      1.00      1.00     14207\n",
      "           1       1.00      1.00      1.00     66967\n",
      "\n",
      "    accuracy                           1.00     81174\n",
      "   macro avg       1.00      1.00      1.00     81174\n",
      "weighted avg       1.00      1.00      1.00     81174\n",
      "\n"
     ]
    }
   ],
   "source": [
    "from sklearn.metrics import classification_report\n",
    "\n",
    "print(classification_report(y_test, y_pred_test))"
   ]
  },
  {
   "cell_type": "markdown",
   "id": "61ffb4f3-a69c-4cc6-9972-a019410ee08b",
   "metadata": {},
   "source": [
    "### Classification accuracy"
   ]
  },
  {
   "cell_type": "code",
   "execution_count": 60,
   "id": "5cc4fa76-c405-4a36-81c4-e6303c4afd4e",
   "metadata": {},
   "outputs": [],
   "source": [
    "TP = cm[0,0]\n",
    "TN = cm[1,1]\n",
    "FP = cm[0,1]\n",
    "FN = cm[1,0]"
   ]
  },
  {
   "cell_type": "code",
   "execution_count": 61,
   "id": "d18ab75f-f730-4e6a-96e9-0ecbcdd48002",
   "metadata": {},
   "outputs": [
    {
     "name": "stdout",
     "output_type": "stream",
     "text": [
      "Classification accuracy : 0.9990\n"
     ]
    }
   ],
   "source": [
    "classification_accuracy = (TP + TN) / float(TP + TN + FP + FN)\n",
    "\n",
    "print('Classification accuracy : {0:0.4f}'.format(classification_accuracy))"
   ]
  },
  {
   "cell_type": "markdown",
   "id": "34f1b3a8-cb35-4361-9567-a4b3be2cc10c",
   "metadata": {},
   "source": [
    "### Classification error"
   ]
  },
  {
   "cell_type": "code",
   "execution_count": 62,
   "id": "e0f9967b-026d-4908-b424-f02b7ed3882e",
   "metadata": {},
   "outputs": [
    {
     "name": "stdout",
     "output_type": "stream",
     "text": [
      "Classification error : 0.0010\n"
     ]
    }
   ],
   "source": [
    "classification_error = (FP + FN) / float(TP + TN + FP + FN)\n",
    "\n",
    "print('Classification error : {0:0.4f}'.format(classification_error))"
   ]
  },
  {
   "cell_type": "markdown",
   "id": "63bc5453-507e-4c28-aa1b-a68eb02416cd",
   "metadata": {},
   "source": [
    "### Precision"
   ]
  },
  {
   "cell_type": "code",
   "execution_count": 63,
   "id": "f9bbb661-8a17-4ae5-a024-46659f70b7e4",
   "metadata": {},
   "outputs": [
    {
     "name": "stdout",
     "output_type": "stream",
     "text": [
      "Precision : 0.9990\n"
     ]
    }
   ],
   "source": [
    "precision = TP / float(TP + FP)\n",
    "\n",
    "\n",
    "print('Precision : {0:0.4f}'.format(precision))"
   ]
  },
  {
   "cell_type": "markdown",
   "id": "b9250233-51b5-4570-a7e3-0194e2954328",
   "metadata": {},
   "source": [
    "### Recall"
   ]
  },
  {
   "cell_type": "code",
   "execution_count": 64,
   "id": "ac751f3e-3aa6-453c-b747-5d979dc0fce1",
   "metadata": {},
   "outputs": [
    {
     "name": "stdout",
     "output_type": "stream",
     "text": [
      "Recall or Sensitivity : 0.9953\n"
     ]
    }
   ],
   "source": [
    "recall = TP / float(TP + FN)\n",
    "\n",
    "print('Recall or Sensitivity : {0:0.4f}'.format(recall))"
   ]
  },
  {
   "cell_type": "markdown",
   "id": "7eac90f6-715d-4955-8fd0-8649f853ce8d",
   "metadata": {},
   "source": [
    "### True Positive Rate"
   ]
  },
  {
   "cell_type": "code",
   "execution_count": 65,
   "id": "a541b0a3-e602-405f-a1fb-f185b7c7cba7",
   "metadata": {},
   "outputs": [
    {
     "name": "stdout",
     "output_type": "stream",
     "text": [
      "True Positive Rate : 0.9953\n"
     ]
    }
   ],
   "source": [
    "true_positive_rate = TP / float(TP + FN)\n",
    "\n",
    "\n",
    "print('True Positive Rate : {0:0.4f}'.format(true_positive_rate))"
   ]
  },
  {
   "cell_type": "markdown",
   "id": "0c883863-fd79-483d-b1c5-ba621e4cdb50",
   "metadata": {},
   "source": [
    "### False Positive Rate"
   ]
  },
  {
   "cell_type": "code",
   "execution_count": 66,
   "id": "0cd43831-0bee-4a3f-8e24-d4b50ad29209",
   "metadata": {},
   "outputs": [
    {
     "name": "stdout",
     "output_type": "stream",
     "text": [
      "False Positive Rate : 0.0002\n"
     ]
    }
   ],
   "source": [
    "false_positive_rate = FP / float(FP + TN)\n",
    "\n",
    "\n",
    "print('False Positive Rate : {0:0.4f}'.format(false_positive_rate))"
   ]
  },
  {
   "cell_type": "markdown",
   "id": "87e3cdb2-92b4-4bad-a73d-0dda45ea120b",
   "metadata": {},
   "source": [
    "### Specificity"
   ]
  },
  {
   "cell_type": "code",
   "execution_count": 67,
   "id": "7a9ed6a1-f4ea-4b3b-a32d-0e88aa51494a",
   "metadata": {},
   "outputs": [
    {
     "name": "stdout",
     "output_type": "stream",
     "text": [
      "Specificity : 0.9998\n"
     ]
    }
   ],
   "source": [
    "specificity = TN / (TN + FP)\n",
    "\n",
    "print('Specificity : {0:0.4f}'.format(specificity))"
   ]
  },
  {
   "cell_type": "markdown",
   "id": "a2b2d6d4-5838-43b1-b7f3-718ee7cdd706",
   "metadata": {},
   "source": [
    "# Test Vẽ biểu đồ"
   ]
  },
  {
   "cell_type": "code",
   "execution_count": 68,
   "id": "4a5f375c-f4da-44a7-9a07-aafc5ef33b17",
   "metadata": {},
   "outputs": [
    {
     "data": {
      "text/plain": [
       "Text(0, 0.5, 'Number of pulsar stars')"
      ]
     },
     "execution_count": 68,
     "metadata": {},
     "output_type": "execute_result"
    },
    {
     "data": {
      "image/png": "[encoded data removed]",
      "text/plain": [
       "<Figure size 2400x2000 with 1 Axes>"
      ]
     },
     "metadata": {},
     "output_type": "display_data"
    }
   ],
   "source": [
    "plt.figure(figsize=(24,20))\n",
    "\n",
    "\n",
    "plt.subplot(4, 2, 1)\n",
    "fig = df['Source Port'].hist(bins=20)\n",
    "fig.set_xlabel('Source Port')\n",
    "fig.set_ylabel('Number of pulsar stars')"
   ]
  },
  {
   "cell_type": "code",
   "execution_count": 69,
   "id": "69f52312-cb4c-48df-97f8-c1809846dbe8",
   "metadata": {},
   "outputs": [
    {
     "data": {
      "text/plain": [
       "Text(0, 0.5, 'Source Port')"
      ]
     },
     "execution_count": 69,
     "metadata": {},
     "output_type": "execute_result"
    },
    {
     "data": {
      "image/png": "[encoded data removed]",
      "text/plain": [
       "<Figure size 2400x2000 with 1 Axes>"
      ]
     },
     "metadata": {},
     "output_type": "display_data"
    }
   ],
   "source": [
    "# draw boxplots to visualize outliers\n",
    "\n",
    "plt.figure(figsize=(24,20))\n",
    "\n",
    "\n",
    "plt.subplot(4, 2, 1)\n",
    "fig = df.boxplot(column='Source Port')\n",
    "fig.set_title('')\n",
    "fig.set_ylabel('Source Port')"
   ]
  },
  {
   "cell_type": "code",
   "execution_count": null,
   "id": "d6ad9fc4-1b74-420b-81d2-2d64e48d965f",
   "metadata": {},
   "outputs": [],
   "source": []
  }
 ],
 "metadata": {
  "kernelspec": {
   "display_name": "Python 3",
   "language": "python",
   "name": "python3"
  },
  "language_info": {
   "codemirror_mode": {
    "name": "ipython",
    "version": 3
   },
   "file_extension": ".py",
   "mimetype": "text/x-python",
   "name": "python",
   "nbconvert_exporter": "python",
   "pygments_lexer": "ipython3",
   "version": "3.11.1 (tags/v3.11.1:a7a450f, Dec  6 2022, 19:58:39) [MSC v.1934 64 bit (AMD64)]"
  },
  "vscode": {
   "interpreter": {
    "hash": "e7ca58901ed5f509ad28f3ce1875e38e378918d2d4ef70717a6ac232c6afd6e2"
   }
  }
 },
 "nbformat": 4,
 "nbformat_minor": 5
}
